{
 "cells": [
  {
   "cell_type": "markdown",
   "metadata": {},
   "source": [
    "# Versions of the main packages used in this project"
   ]
  },
  {
   "cell_type": "code",
   "execution_count": 1,
   "metadata": {},
   "outputs": [
    {
     "name": "stdout",
     "output_type": "stream",
     "text": [
      "Versions of the packages:\n",
      "\n",
      "-------------------- | ----------\n",
      "      Package        |  Version  \n",
      "-------------------- | ----------\n",
      "Imbalanced-Learn     |     0.11.0\n",
      "Matplotlib           |      3.7.2\n",
      "NumPy                |     1.24.3\n",
      "Pandas               |      1.5.3\n",
      "Scikit-Learn         |      1.3.0\n",
      "Seaborn              |     0.12.2\n",
      "\n",
      "Python version: 3.11.5\n"
     ]
    }
   ],
   "source": [
    "import pandas as pd\n",
    "import matplotlib\n",
    "import seaborn as sns\n",
    "import numpy as np\n",
    "import sklearn\n",
    "import imblearn\n",
    "from platform import python_version\n",
    "\n",
    "packages = {\n",
    "    \"Pandas\": pd,\n",
    "    \"Matplotlib\": matplotlib,\n",
    "    \"Seaborn\": sns,\n",
    "    \"NumPy\": np,\n",
    "    \"Scikit-Learn\": sklearn,\n",
    "    \"Imbalanced-Learn\": imblearn,\n",
    "}\n",
    "\n",
    "print(\"Versions of the packages:\\n\")\n",
    "print(f\"{'':-^20} | {'':-^10}\")\n",
    "print(f\"{'Package':^20} | {'Version':^10}\")\n",
    "print(f\"{'':-^20} | {'':-^10}\")\n",
    "\n",
    "for name, package in sorted(packages.items()):\n",
    "    print(f\"{name:<20} | {package.__version__:>10}\")\n",
    "\n",
    "print()\n",
    "print(f\"Python version: {python_version()}\")"
   ]
  }
 ],
 "metadata": {
  "kernelspec": {
   "display_name": "Python 3 (ipykernel)",
   "language": "python",
   "name": "python3"
  },
  "language_info": {
   "codemirror_mode": {
    "name": "ipython",
    "version": 3
   },
   "file_extension": ".py",
   "mimetype": "text/x-python",
   "name": "python",
   "nbconvert_exporter": "python",
   "pygments_lexer": "ipython3",
   "version": "3.11.5"
  }
 },
 "nbformat": 4,
 "nbformat_minor": 4
}
