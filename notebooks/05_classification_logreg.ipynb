{
 "cells": [
  {
   "cell_type": "markdown",
   "id": "a00d15d8",
   "metadata": {},
   "source": [
    "# Hyperparameters optimization for Logistic Regression"
   ]
  },
  {
   "cell_type": "code",
   "execution_count": 1,
   "id": "db792e4c-e769-499d-b4f2-f4935d90f6c9",
   "metadata": {},
   "outputs": [
    {
     "data": {
      "text/html": [
       "<div>\n",
       "<style scoped>\n",
       "    .dataframe tbody tr th:only-of-type {\n",
       "        vertical-align: middle;\n",
       "    }\n",
       "\n",
       "    .dataframe tbody tr th {\n",
       "        vertical-align: top;\n",
       "    }\n",
       "\n",
       "    .dataframe thead th {\n",
       "        text-align: right;\n",
       "    }\n",
       "</style>\n",
       "<table border=\"1\" class=\"dataframe\">\n",
       "  <thead>\n",
       "    <tr style=\"text-align: right;\">\n",
       "      <th></th>\n",
       "      <th>Education</th>\n",
       "      <th>Marital_Status</th>\n",
       "      <th>Income</th>\n",
       "      <th>Kidhome</th>\n",
       "      <th>Teenhome</th>\n",
       "      <th>Recency</th>\n",
       "      <th>MntWines</th>\n",
       "      <th>MntFruits</th>\n",
       "      <th>MntMeatProducts</th>\n",
       "      <th>MntFishProducts</th>\n",
       "      <th>...</th>\n",
       "      <th>Age</th>\n",
       "      <th>AgeGroup</th>\n",
       "      <th>MntTotal</th>\n",
       "      <th>MntRegularProds</th>\n",
       "      <th>Children</th>\n",
       "      <th>HasChildren</th>\n",
       "      <th>AcceptedCmpTotal</th>\n",
       "      <th>HasAcceptedCmp</th>\n",
       "      <th>NumTotalPurchases</th>\n",
       "      <th>cluster</th>\n",
       "    </tr>\n",
       "  </thead>\n",
       "  <tbody>\n",
       "    <tr>\n",
       "      <th>0</th>\n",
       "      <td>Graduation</td>\n",
       "      <td>Single</td>\n",
       "      <td>58138.0</td>\n",
       "      <td>0</td>\n",
       "      <td>0</td>\n",
       "      <td>58</td>\n",
       "      <td>635</td>\n",
       "      <td>88</td>\n",
       "      <td>546</td>\n",
       "      <td>172</td>\n",
       "      <td>...</td>\n",
       "      <td>57</td>\n",
       "      <td>46-60</td>\n",
       "      <td>1617</td>\n",
       "      <td>1529</td>\n",
       "      <td>0</td>\n",
       "      <td>0</td>\n",
       "      <td>0</td>\n",
       "      <td>0</td>\n",
       "      <td>22</td>\n",
       "      <td>0</td>\n",
       "    </tr>\n",
       "    <tr>\n",
       "      <th>1</th>\n",
       "      <td>Graduation</td>\n",
       "      <td>Single</td>\n",
       "      <td>46344.0</td>\n",
       "      <td>1</td>\n",
       "      <td>1</td>\n",
       "      <td>38</td>\n",
       "      <td>11</td>\n",
       "      <td>1</td>\n",
       "      <td>6</td>\n",
       "      <td>2</td>\n",
       "      <td>...</td>\n",
       "      <td>60</td>\n",
       "      <td>46-60</td>\n",
       "      <td>27</td>\n",
       "      <td>21</td>\n",
       "      <td>2</td>\n",
       "      <td>1</td>\n",
       "      <td>0</td>\n",
       "      <td>0</td>\n",
       "      <td>4</td>\n",
       "      <td>1</td>\n",
       "    </tr>\n",
       "    <tr>\n",
       "      <th>2</th>\n",
       "      <td>Graduation</td>\n",
       "      <td>Partner</td>\n",
       "      <td>71613.0</td>\n",
       "      <td>0</td>\n",
       "      <td>0</td>\n",
       "      <td>26</td>\n",
       "      <td>426</td>\n",
       "      <td>49</td>\n",
       "      <td>127</td>\n",
       "      <td>111</td>\n",
       "      <td>...</td>\n",
       "      <td>49</td>\n",
       "      <td>46-60</td>\n",
       "      <td>776</td>\n",
       "      <td>734</td>\n",
       "      <td>0</td>\n",
       "      <td>0</td>\n",
       "      <td>0</td>\n",
       "      <td>0</td>\n",
       "      <td>20</td>\n",
       "      <td>0</td>\n",
       "    </tr>\n",
       "    <tr>\n",
       "      <th>3</th>\n",
       "      <td>Graduation</td>\n",
       "      <td>Partner</td>\n",
       "      <td>26646.0</td>\n",
       "      <td>1</td>\n",
       "      <td>0</td>\n",
       "      <td>26</td>\n",
       "      <td>11</td>\n",
       "      <td>4</td>\n",
       "      <td>20</td>\n",
       "      <td>10</td>\n",
       "      <td>...</td>\n",
       "      <td>30</td>\n",
       "      <td>18-30</td>\n",
       "      <td>53</td>\n",
       "      <td>48</td>\n",
       "      <td>1</td>\n",
       "      <td>1</td>\n",
       "      <td>0</td>\n",
       "      <td>0</td>\n",
       "      <td>6</td>\n",
       "      <td>1</td>\n",
       "    </tr>\n",
       "    <tr>\n",
       "      <th>4</th>\n",
       "      <td>PhD</td>\n",
       "      <td>Partner</td>\n",
       "      <td>58293.0</td>\n",
       "      <td>1</td>\n",
       "      <td>0</td>\n",
       "      <td>94</td>\n",
       "      <td>173</td>\n",
       "      <td>43</td>\n",
       "      <td>118</td>\n",
       "      <td>46</td>\n",
       "      <td>...</td>\n",
       "      <td>33</td>\n",
       "      <td>31-45</td>\n",
       "      <td>422</td>\n",
       "      <td>407</td>\n",
       "      <td>1</td>\n",
       "      <td>1</td>\n",
       "      <td>0</td>\n",
       "      <td>0</td>\n",
       "      <td>14</td>\n",
       "      <td>2</td>\n",
       "    </tr>\n",
       "  </tbody>\n",
       "</table>\n",
       "<p>5 rows × 36 columns</p>\n",
       "</div>"
      ],
      "text/plain": [
       "    Education Marital_Status   Income  Kidhome  Teenhome  Recency  MntWines  \\\n",
       "0  Graduation         Single  58138.0        0         0       58       635   \n",
       "1  Graduation         Single  46344.0        1         1       38        11   \n",
       "2  Graduation        Partner  71613.0        0         0       26       426   \n",
       "3  Graduation        Partner  26646.0        1         0       26        11   \n",
       "4         PhD        Partner  58293.0        1         0       94       173   \n",
       "\n",
       "   MntFruits  MntMeatProducts  MntFishProducts  ...  Age  AgeGroup  MntTotal  \\\n",
       "0         88              546              172  ...   57     46-60      1617   \n",
       "1          1                6                2  ...   60     46-60        27   \n",
       "2         49              127              111  ...   49     46-60       776   \n",
       "3          4               20               10  ...   30     18-30        53   \n",
       "4         43              118               46  ...   33     31-45       422   \n",
       "\n",
       "   MntRegularProds  Children  HasChildren  AcceptedCmpTotal  HasAcceptedCmp  \\\n",
       "0             1529         0            0                 0               0   \n",
       "1               21         2            1                 0               0   \n",
       "2              734         0            0                 0               0   \n",
       "3               48         1            1                 0               0   \n",
       "4              407         1            1                 0               0   \n",
       "\n",
       "   NumTotalPurchases  cluster  \n",
       "0                 22        0  \n",
       "1                  4        1  \n",
       "2                 20        0  \n",
       "3                  6        1  \n",
       "4                 14        2  \n",
       "\n",
       "[5 rows x 36 columns]"
      ]
     },
     "execution_count": 1,
     "metadata": {},
     "output_type": "execute_result"
    }
   ],
   "source": [
    "import pandas as pd\n",
    "\n",
    "DATA = \"../data/customers_clustered.csv\"\n",
    "\n",
    "df_clustered = pd.read_csv(DATA)\n",
    "df_clustered.head()"
   ]
  },
  {
   "cell_type": "code",
   "execution_count": 2,
   "id": "c7563037-cca2-4d44-ab90-9cc08c4c3bad",
   "metadata": {},
   "outputs": [
    {
     "name": "stdout",
     "output_type": "stream",
     "text": [
      "<class 'pandas.core.frame.DataFrame'>\n",
      "RangeIndex: 2205 entries, 0 to 2204\n",
      "Data columns (total 36 columns):\n",
      " #   Column               Non-Null Count  Dtype  \n",
      "---  ------               --------------  -----  \n",
      " 0   Education            2205 non-null   object \n",
      " 1   Marital_Status       2205 non-null   object \n",
      " 2   Income               2205 non-null   float64\n",
      " 3   Kidhome              2205 non-null   int64  \n",
      " 4   Teenhome             2205 non-null   int64  \n",
      " 5   Recency              2205 non-null   int64  \n",
      " 6   MntWines             2205 non-null   int64  \n",
      " 7   MntFruits            2205 non-null   int64  \n",
      " 8   MntMeatProducts      2205 non-null   int64  \n",
      " 9   MntFishProducts      2205 non-null   int64  \n",
      " 10  MntSweetProducts     2205 non-null   int64  \n",
      " 11  MntGoldProds         2205 non-null   int64  \n",
      " 12  NumDealsPurchases    2205 non-null   int64  \n",
      " 13  NumWebPurchases      2205 non-null   int64  \n",
      " 14  NumCatalogPurchases  2205 non-null   int64  \n",
      " 15  NumStorePurchases    2205 non-null   int64  \n",
      " 16  NumWebVisitsMonth    2205 non-null   int64  \n",
      " 17  AcceptedCmp3         2205 non-null   int64  \n",
      " 18  AcceptedCmp4         2205 non-null   int64  \n",
      " 19  AcceptedCmp5         2205 non-null   int64  \n",
      " 20  AcceptedCmp1         2205 non-null   int64  \n",
      " 21  AcceptedCmp2         2205 non-null   int64  \n",
      " 22  Complain             2205 non-null   int64  \n",
      " 23  Response             2205 non-null   int64  \n",
      " 24  DaysSinceEnrolled    2205 non-null   int64  \n",
      " 25  YearsSinceEnrolled   2205 non-null   int64  \n",
      " 26  Age                  2205 non-null   int64  \n",
      " 27  AgeGroup             2205 non-null   object \n",
      " 28  MntTotal             2205 non-null   int64  \n",
      " 29  MntRegularProds      2205 non-null   int64  \n",
      " 30  Children             2205 non-null   int64  \n",
      " 31  HasChildren          2205 non-null   int64  \n",
      " 32  AcceptedCmpTotal     2205 non-null   int64  \n",
      " 33  HasAcceptedCmp       2205 non-null   int64  \n",
      " 34  NumTotalPurchases    2205 non-null   int64  \n",
      " 35  cluster              2205 non-null   int64  \n",
      "dtypes: float64(1), int64(32), object(3)\n",
      "memory usage: 620.3+ KB\n"
     ]
    }
   ],
   "source": [
    "df_clustered.info()"
   ]
  },
  {
   "cell_type": "code",
   "execution_count": 3,
   "id": "f9558b20-ad8c-4589-8de5-05a2add03aa4",
   "metadata": {},
   "outputs": [],
   "source": [
    "X = df_clustered.drop(\"Response\", axis=1)\n",
    "y = df_clustered[\"Response\"]"
   ]
  },
  {
   "cell_type": "code",
   "execution_count": 4,
   "id": "a440e7b9-07d6-4a0d-8742-91b472abf3ac",
   "metadata": {},
   "outputs": [
    {
     "data": {
      "text/html": [
       "<div>\n",
       "<style scoped>\n",
       "    .dataframe tbody tr th:only-of-type {\n",
       "        vertical-align: middle;\n",
       "    }\n",
       "\n",
       "    .dataframe tbody tr th {\n",
       "        vertical-align: top;\n",
       "    }\n",
       "\n",
       "    .dataframe thead th {\n",
       "        text-align: right;\n",
       "    }\n",
       "</style>\n",
       "<table border=\"1\" class=\"dataframe\">\n",
       "  <thead>\n",
       "    <tr style=\"text-align: right;\">\n",
       "      <th></th>\n",
       "      <th>Education</th>\n",
       "      <th>Marital_Status</th>\n",
       "      <th>Income</th>\n",
       "      <th>Kidhome</th>\n",
       "      <th>Teenhome</th>\n",
       "      <th>Recency</th>\n",
       "      <th>MntWines</th>\n",
       "      <th>MntFruits</th>\n",
       "      <th>MntMeatProducts</th>\n",
       "      <th>MntFishProducts</th>\n",
       "      <th>...</th>\n",
       "      <th>Age</th>\n",
       "      <th>AgeGroup</th>\n",
       "      <th>MntTotal</th>\n",
       "      <th>MntRegularProds</th>\n",
       "      <th>Children</th>\n",
       "      <th>HasChildren</th>\n",
       "      <th>AcceptedCmpTotal</th>\n",
       "      <th>HasAcceptedCmp</th>\n",
       "      <th>NumTotalPurchases</th>\n",
       "      <th>cluster</th>\n",
       "    </tr>\n",
       "  </thead>\n",
       "  <tbody>\n",
       "    <tr>\n",
       "      <th>0</th>\n",
       "      <td>Graduation</td>\n",
       "      <td>Single</td>\n",
       "      <td>58138.0</td>\n",
       "      <td>0</td>\n",
       "      <td>0</td>\n",
       "      <td>58</td>\n",
       "      <td>635</td>\n",
       "      <td>88</td>\n",
       "      <td>546</td>\n",
       "      <td>172</td>\n",
       "      <td>...</td>\n",
       "      <td>57</td>\n",
       "      <td>46-60</td>\n",
       "      <td>1617</td>\n",
       "      <td>1529</td>\n",
       "      <td>0</td>\n",
       "      <td>0</td>\n",
       "      <td>0</td>\n",
       "      <td>0</td>\n",
       "      <td>22</td>\n",
       "      <td>0</td>\n",
       "    </tr>\n",
       "    <tr>\n",
       "      <th>1</th>\n",
       "      <td>Graduation</td>\n",
       "      <td>Single</td>\n",
       "      <td>46344.0</td>\n",
       "      <td>1</td>\n",
       "      <td>1</td>\n",
       "      <td>38</td>\n",
       "      <td>11</td>\n",
       "      <td>1</td>\n",
       "      <td>6</td>\n",
       "      <td>2</td>\n",
       "      <td>...</td>\n",
       "      <td>60</td>\n",
       "      <td>46-60</td>\n",
       "      <td>27</td>\n",
       "      <td>21</td>\n",
       "      <td>2</td>\n",
       "      <td>1</td>\n",
       "      <td>0</td>\n",
       "      <td>0</td>\n",
       "      <td>4</td>\n",
       "      <td>1</td>\n",
       "    </tr>\n",
       "    <tr>\n",
       "      <th>2</th>\n",
       "      <td>Graduation</td>\n",
       "      <td>Partner</td>\n",
       "      <td>71613.0</td>\n",
       "      <td>0</td>\n",
       "      <td>0</td>\n",
       "      <td>26</td>\n",
       "      <td>426</td>\n",
       "      <td>49</td>\n",
       "      <td>127</td>\n",
       "      <td>111</td>\n",
       "      <td>...</td>\n",
       "      <td>49</td>\n",
       "      <td>46-60</td>\n",
       "      <td>776</td>\n",
       "      <td>734</td>\n",
       "      <td>0</td>\n",
       "      <td>0</td>\n",
       "      <td>0</td>\n",
       "      <td>0</td>\n",
       "      <td>20</td>\n",
       "      <td>0</td>\n",
       "    </tr>\n",
       "    <tr>\n",
       "      <th>3</th>\n",
       "      <td>Graduation</td>\n",
       "      <td>Partner</td>\n",
       "      <td>26646.0</td>\n",
       "      <td>1</td>\n",
       "      <td>0</td>\n",
       "      <td>26</td>\n",
       "      <td>11</td>\n",
       "      <td>4</td>\n",
       "      <td>20</td>\n",
       "      <td>10</td>\n",
       "      <td>...</td>\n",
       "      <td>30</td>\n",
       "      <td>18-30</td>\n",
       "      <td>53</td>\n",
       "      <td>48</td>\n",
       "      <td>1</td>\n",
       "      <td>1</td>\n",
       "      <td>0</td>\n",
       "      <td>0</td>\n",
       "      <td>6</td>\n",
       "      <td>1</td>\n",
       "    </tr>\n",
       "    <tr>\n",
       "      <th>4</th>\n",
       "      <td>PhD</td>\n",
       "      <td>Partner</td>\n",
       "      <td>58293.0</td>\n",
       "      <td>1</td>\n",
       "      <td>0</td>\n",
       "      <td>94</td>\n",
       "      <td>173</td>\n",
       "      <td>43</td>\n",
       "      <td>118</td>\n",
       "      <td>46</td>\n",
       "      <td>...</td>\n",
       "      <td>33</td>\n",
       "      <td>31-45</td>\n",
       "      <td>422</td>\n",
       "      <td>407</td>\n",
       "      <td>1</td>\n",
       "      <td>1</td>\n",
       "      <td>0</td>\n",
       "      <td>0</td>\n",
       "      <td>14</td>\n",
       "      <td>2</td>\n",
       "    </tr>\n",
       "  </tbody>\n",
       "</table>\n",
       "<p>5 rows × 35 columns</p>\n",
       "</div>"
      ],
      "text/plain": [
       "    Education Marital_Status   Income  Kidhome  Teenhome  Recency  MntWines  \\\n",
       "0  Graduation         Single  58138.0        0         0       58       635   \n",
       "1  Graduation         Single  46344.0        1         1       38        11   \n",
       "2  Graduation        Partner  71613.0        0         0       26       426   \n",
       "3  Graduation        Partner  26646.0        1         0       26        11   \n",
       "4         PhD        Partner  58293.0        1         0       94       173   \n",
       "\n",
       "   MntFruits  MntMeatProducts  MntFishProducts  ...  Age  AgeGroup  MntTotal  \\\n",
       "0         88              546              172  ...   57     46-60      1617   \n",
       "1          1                6                2  ...   60     46-60        27   \n",
       "2         49              127              111  ...   49     46-60       776   \n",
       "3          4               20               10  ...   30     18-30        53   \n",
       "4         43              118               46  ...   33     31-45       422   \n",
       "\n",
       "   MntRegularProds  Children  HasChildren  AcceptedCmpTotal  HasAcceptedCmp  \\\n",
       "0             1529         0            0                 0               0   \n",
       "1               21         2            1                 0               0   \n",
       "2              734         0            0                 0               0   \n",
       "3               48         1            1                 0               0   \n",
       "4              407         1            1                 0               0   \n",
       "\n",
       "   NumTotalPurchases  cluster  \n",
       "0                 22        0  \n",
       "1                  4        1  \n",
       "2                 20        0  \n",
       "3                  6        1  \n",
       "4                 14        2  \n",
       "\n",
       "[5 rows x 35 columns]"
      ]
     },
     "execution_count": 4,
     "metadata": {},
     "output_type": "execute_result"
    }
   ],
   "source": [
    "X.head()"
   ]
  },
  {
   "cell_type": "code",
   "execution_count": 5,
   "id": "296e16e5-c41c-4954-a535-d60e3f34fe4c",
   "metadata": {},
   "outputs": [
    {
     "data": {
      "text/plain": [
       "0    1\n",
       "1    0\n",
       "2    0\n",
       "3    0\n",
       "4    0\n",
       "Name: Response, dtype: int64"
      ]
     },
     "execution_count": 5,
     "metadata": {},
     "output_type": "execute_result"
    }
   ],
   "source": [
    "y.head()"
   ]
  },
  {
   "cell_type": "code",
   "execution_count": 6,
   "id": "fb0af0de-f0d5-4d97-a60a-504f8bc7469c",
   "metadata": {},
   "outputs": [],
   "source": [
    "one_hot_cols = [\n",
    "    \"Education\",\n",
    "    \"Marital_Status\",\n",
    "    \"AgeGroup\",\n",
    "    \"HasChildren\",\n",
    "    \"HasAcceptedCmp\",\n",
    "    \"AcceptedCmp1\",\n",
    "    \"AcceptedCmp2\",\n",
    "    \"AcceptedCmp3\",\n",
    "    \"AcceptedCmp4\",\n",
    "    \"AcceptedCmp5\",\n",
    "    \"Complain\",\n",
    "    \"Kidhome\",\n",
    "    \"Teenhome\",\n",
    "    \"YearsSinceEnrolled\",\n",
    "    \"Children\",\n",
    "    \"AcceptedCmpTotal\",\n",
    "    \"cluster\"\n",
    "]\n",
    "\n",
    "standard_cols = [\n",
    "    \"Income\",\n",
    "    \"Age\",\n",
    "]\n",
    "\n",
    "power_cols = X.columns[\n",
    "   X.columns.str.startswith(\"Mnt\") | X.columns.str.startswith(\"Num\")\n",
    "].tolist()\n",
    "\n",
    "minmax_cols = [\n",
    "    col for col in X.columns if col not in one_hot_cols + standard_cols + power_cols\n",
    "]"
   ]
  },
  {
   "cell_type": "markdown",
   "id": "fe184d19-7480-40c1-8252-b5cc0639eb73",
   "metadata": {},
   "source": [
    "https://scikit-learn.org/stable/modules/generated/sklearn.dummy.DummyClassifier.html"
   ]
  },
  {
   "cell_type": "markdown",
   "id": "4fd3ab32-2e04-4663-8786-4bce8b2af6a6",
   "metadata": {},
   "source": [
    "**ALUNOS**: Explicar que está primeiro reproduzindo o modelo sem otimização de hiperparâmetros. Explicar as curvas obtidas."
   ]
  },
  {
   "cell_type": "code",
   "execution_count": 7,
   "id": "135cadb4-9776-4217-bf20-933147f355ed",
   "metadata": {},
   "outputs": [
    {
     "data": {
      "text/html": [
       "<style>#sk-container-id-1 {color: black;}#sk-container-id-1 pre{padding: 0;}#sk-container-id-1 div.sk-toggleable {background-color: white;}#sk-container-id-1 label.sk-toggleable__label {cursor: pointer;display: block;width: 100%;margin-bottom: 0;padding: 0.3em;box-sizing: border-box;text-align: center;}#sk-container-id-1 label.sk-toggleable__label-arrow:before {content: \"▸\";float: left;margin-right: 0.25em;color: #696969;}#sk-container-id-1 label.sk-toggleable__label-arrow:hover:before {color: black;}#sk-container-id-1 div.sk-estimator:hover label.sk-toggleable__label-arrow:before {color: black;}#sk-container-id-1 div.sk-toggleable__content {max-height: 0;max-width: 0;overflow: hidden;text-align: left;background-color: #f0f8ff;}#sk-container-id-1 div.sk-toggleable__content pre {margin: 0.2em;color: black;border-radius: 0.25em;background-color: #f0f8ff;}#sk-container-id-1 input.sk-toggleable__control:checked~div.sk-toggleable__content {max-height: 200px;max-width: 100%;overflow: auto;}#sk-container-id-1 input.sk-toggleable__control:checked~label.sk-toggleable__label-arrow:before {content: \"▾\";}#sk-container-id-1 div.sk-estimator input.sk-toggleable__control:checked~label.sk-toggleable__label {background-color: #d4ebff;}#sk-container-id-1 div.sk-label input.sk-toggleable__control:checked~label.sk-toggleable__label {background-color: #d4ebff;}#sk-container-id-1 input.sk-hidden--visually {border: 0;clip: rect(1px 1px 1px 1px);clip: rect(1px, 1px, 1px, 1px);height: 1px;margin: -1px;overflow: hidden;padding: 0;position: absolute;width: 1px;}#sk-container-id-1 div.sk-estimator {font-family: monospace;background-color: #f0f8ff;border: 1px dotted black;border-radius: 0.25em;box-sizing: border-box;margin-bottom: 0.5em;}#sk-container-id-1 div.sk-estimator:hover {background-color: #d4ebff;}#sk-container-id-1 div.sk-parallel-item::after {content: \"\";width: 100%;border-bottom: 1px solid gray;flex-grow: 1;}#sk-container-id-1 div.sk-label:hover label.sk-toggleable__label {background-color: #d4ebff;}#sk-container-id-1 div.sk-serial::before {content: \"\";position: absolute;border-left: 1px solid gray;box-sizing: border-box;top: 0;bottom: 0;left: 50%;z-index: 0;}#sk-container-id-1 div.sk-serial {display: flex;flex-direction: column;align-items: center;background-color: white;padding-right: 0.2em;padding-left: 0.2em;position: relative;}#sk-container-id-1 div.sk-item {position: relative;z-index: 1;}#sk-container-id-1 div.sk-parallel {display: flex;align-items: stretch;justify-content: center;background-color: white;position: relative;}#sk-container-id-1 div.sk-item::before, #sk-container-id-1 div.sk-parallel-item::before {content: \"\";position: absolute;border-left: 1px solid gray;box-sizing: border-box;top: 0;bottom: 0;left: 50%;z-index: -1;}#sk-container-id-1 div.sk-parallel-item {display: flex;flex-direction: column;z-index: 1;position: relative;background-color: white;}#sk-container-id-1 div.sk-parallel-item:first-child::after {align-self: flex-end;width: 50%;}#sk-container-id-1 div.sk-parallel-item:last-child::after {align-self: flex-start;width: 50%;}#sk-container-id-1 div.sk-parallel-item:only-child::after {width: 0;}#sk-container-id-1 div.sk-dashed-wrapped {border: 1px dashed gray;margin: 0 0.4em 0.5em 0.4em;box-sizing: border-box;padding-bottom: 0.4em;background-color: white;}#sk-container-id-1 div.sk-label label {font-family: monospace;font-weight: bold;display: inline-block;line-height: 1.2em;}#sk-container-id-1 div.sk-label-container {text-align: center;}#sk-container-id-1 div.sk-container {/* jupyter's `normalize.less` sets `[hidden] { display: none; }` but bootstrap.min.css set `[hidden] { display: none !important; }` so we also need the `!important` here to be able to override the default hidden behavior on the sphinx rendered scikit-learn.org. See: https://github.com/scikit-learn/scikit-learn/issues/21755 */display: inline-block !important;position: relative;}#sk-container-id-1 div.sk-text-repr-fallback {display: none;}</style><div id=\"sk-container-id-1\" class=\"sk-top-container\"><div class=\"sk-text-repr-fallback\"><pre>Pipeline(steps=[(&#x27;preprocessing&#x27;,\n",
       "                 ColumnTransformer(transformers=[(&#x27;one-hot&#x27;, OneHotEncoder(),\n",
       "                                                  [&#x27;Education&#x27;,\n",
       "                                                   &#x27;Marital_Status&#x27;, &#x27;AgeGroup&#x27;,\n",
       "                                                   &#x27;HasChildren&#x27;,\n",
       "                                                   &#x27;HasAcceptedCmp&#x27;,\n",
       "                                                   &#x27;AcceptedCmp1&#x27;,\n",
       "                                                   &#x27;AcceptedCmp2&#x27;,\n",
       "                                                   &#x27;AcceptedCmp3&#x27;,\n",
       "                                                   &#x27;AcceptedCmp4&#x27;,\n",
       "                                                   &#x27;AcceptedCmp5&#x27;, &#x27;Complain&#x27;,\n",
       "                                                   &#x27;Kidhome&#x27;, &#x27;Teenhome&#x27;,\n",
       "                                                   &#x27;YearsSinceEnrolled&#x27;,\n",
       "                                                   &#x27;Children&#x27;,\n",
       "                                                   &#x27;AcceptedCmpTotal&#x27;,\n",
       "                                                   &#x27;cluster&#x27;]),\n",
       "                                                 (&#x27;standard&#x27;, Stan...\n",
       "                                                   &#x27;MntMeatProducts&#x27;,\n",
       "                                                   &#x27;MntFishProducts&#x27;,\n",
       "                                                   &#x27;MntSweetProducts&#x27;,\n",
       "                                                   &#x27;MntGoldProds&#x27;,\n",
       "                                                   &#x27;NumDealsPurchases&#x27;,\n",
       "                                                   &#x27;NumWebPurchases&#x27;,\n",
       "                                                   &#x27;NumCatalogPurchases&#x27;,\n",
       "                                                   &#x27;NumStorePurchases&#x27;,\n",
       "                                                   &#x27;NumWebVisitsMonth&#x27;,\n",
       "                                                   &#x27;MntTotal&#x27;,\n",
       "                                                   &#x27;MntRegularProds&#x27;,\n",
       "                                                   &#x27;NumTotalPurchases&#x27;])])),\n",
       "                (&#x27;feature_selection&#x27;, SelectKBest()),\n",
       "                (&#x27;rus&#x27;, RandomUnderSampler(random_state=42)),\n",
       "                (&#x27;model&#x27;, LogisticRegression(random_state=42))])</pre><b>In a Jupyter environment, please rerun this cell to show the HTML representation or trust the notebook. <br />On GitHub, the HTML representation is unable to render, please try loading this page with nbviewer.org.</b></div><div class=\"sk-container\" hidden><div class=\"sk-item sk-dashed-wrapped\"><div class=\"sk-label-container\"><div class=\"sk-label sk-toggleable\"><input class=\"sk-toggleable__control sk-hidden--visually\" id=\"sk-estimator-id-1\" type=\"checkbox\" ><label for=\"sk-estimator-id-1\" class=\"sk-toggleable__label sk-toggleable__label-arrow\">Pipeline</label><div class=\"sk-toggleable__content\"><pre>Pipeline(steps=[(&#x27;preprocessing&#x27;,\n",
       "                 ColumnTransformer(transformers=[(&#x27;one-hot&#x27;, OneHotEncoder(),\n",
       "                                                  [&#x27;Education&#x27;,\n",
       "                                                   &#x27;Marital_Status&#x27;, &#x27;AgeGroup&#x27;,\n",
       "                                                   &#x27;HasChildren&#x27;,\n",
       "                                                   &#x27;HasAcceptedCmp&#x27;,\n",
       "                                                   &#x27;AcceptedCmp1&#x27;,\n",
       "                                                   &#x27;AcceptedCmp2&#x27;,\n",
       "                                                   &#x27;AcceptedCmp3&#x27;,\n",
       "                                                   &#x27;AcceptedCmp4&#x27;,\n",
       "                                                   &#x27;AcceptedCmp5&#x27;, &#x27;Complain&#x27;,\n",
       "                                                   &#x27;Kidhome&#x27;, &#x27;Teenhome&#x27;,\n",
       "                                                   &#x27;YearsSinceEnrolled&#x27;,\n",
       "                                                   &#x27;Children&#x27;,\n",
       "                                                   &#x27;AcceptedCmpTotal&#x27;,\n",
       "                                                   &#x27;cluster&#x27;]),\n",
       "                                                 (&#x27;standard&#x27;, Stan...\n",
       "                                                   &#x27;MntMeatProducts&#x27;,\n",
       "                                                   &#x27;MntFishProducts&#x27;,\n",
       "                                                   &#x27;MntSweetProducts&#x27;,\n",
       "                                                   &#x27;MntGoldProds&#x27;,\n",
       "                                                   &#x27;NumDealsPurchases&#x27;,\n",
       "                                                   &#x27;NumWebPurchases&#x27;,\n",
       "                                                   &#x27;NumCatalogPurchases&#x27;,\n",
       "                                                   &#x27;NumStorePurchases&#x27;,\n",
       "                                                   &#x27;NumWebVisitsMonth&#x27;,\n",
       "                                                   &#x27;MntTotal&#x27;,\n",
       "                                                   &#x27;MntRegularProds&#x27;,\n",
       "                                                   &#x27;NumTotalPurchases&#x27;])])),\n",
       "                (&#x27;feature_selection&#x27;, SelectKBest()),\n",
       "                (&#x27;rus&#x27;, RandomUnderSampler(random_state=42)),\n",
       "                (&#x27;model&#x27;, LogisticRegression(random_state=42))])</pre></div></div></div><div class=\"sk-serial\"><div class=\"sk-item sk-dashed-wrapped\"><div class=\"sk-label-container\"><div class=\"sk-label sk-toggleable\"><input class=\"sk-toggleable__control sk-hidden--visually\" id=\"sk-estimator-id-2\" type=\"checkbox\" ><label for=\"sk-estimator-id-2\" class=\"sk-toggleable__label sk-toggleable__label-arrow\">preprocessing: ColumnTransformer</label><div class=\"sk-toggleable__content\"><pre>ColumnTransformer(transformers=[(&#x27;one-hot&#x27;, OneHotEncoder(),\n",
       "                                 [&#x27;Education&#x27;, &#x27;Marital_Status&#x27;, &#x27;AgeGroup&#x27;,\n",
       "                                  &#x27;HasChildren&#x27;, &#x27;HasAcceptedCmp&#x27;,\n",
       "                                  &#x27;AcceptedCmp1&#x27;, &#x27;AcceptedCmp2&#x27;,\n",
       "                                  &#x27;AcceptedCmp3&#x27;, &#x27;AcceptedCmp4&#x27;,\n",
       "                                  &#x27;AcceptedCmp5&#x27;, &#x27;Complain&#x27;, &#x27;Kidhome&#x27;,\n",
       "                                  &#x27;Teenhome&#x27;, &#x27;YearsSinceEnrolled&#x27;, &#x27;Children&#x27;,\n",
       "                                  &#x27;AcceptedCmpTotal&#x27;, &#x27;cluster&#x27;]),\n",
       "                                (&#x27;standard&#x27;, StandardScaler(),\n",
       "                                 [&#x27;Income&#x27;, &#x27;Age&#x27;]),\n",
       "                                (&#x27;minmax&#x27;, MinMaxScaler(),\n",
       "                                 [&#x27;Recency&#x27;, &#x27;DaysSinceEnrolled&#x27;]),\n",
       "                                (&#x27;power&#x27;, PowerTransformer(),\n",
       "                                 [&#x27;MntWines&#x27;, &#x27;MntFruits&#x27;, &#x27;MntMeatProducts&#x27;,\n",
       "                                  &#x27;MntFishProducts&#x27;, &#x27;MntSweetProducts&#x27;,\n",
       "                                  &#x27;MntGoldProds&#x27;, &#x27;NumDealsPurchases&#x27;,\n",
       "                                  &#x27;NumWebPurchases&#x27;, &#x27;NumCatalogPurchases&#x27;,\n",
       "                                  &#x27;NumStorePurchases&#x27;, &#x27;NumWebVisitsMonth&#x27;,\n",
       "                                  &#x27;MntTotal&#x27;, &#x27;MntRegularProds&#x27;,\n",
       "                                  &#x27;NumTotalPurchases&#x27;])])</pre></div></div></div><div class=\"sk-parallel\"><div class=\"sk-parallel-item\"><div class=\"sk-item\"><div class=\"sk-label-container\"><div class=\"sk-label sk-toggleable\"><input class=\"sk-toggleable__control sk-hidden--visually\" id=\"sk-estimator-id-3\" type=\"checkbox\" ><label for=\"sk-estimator-id-3\" class=\"sk-toggleable__label sk-toggleable__label-arrow\">one-hot</label><div class=\"sk-toggleable__content\"><pre>[&#x27;Education&#x27;, &#x27;Marital_Status&#x27;, &#x27;AgeGroup&#x27;, &#x27;HasChildren&#x27;, &#x27;HasAcceptedCmp&#x27;, &#x27;AcceptedCmp1&#x27;, &#x27;AcceptedCmp2&#x27;, &#x27;AcceptedCmp3&#x27;, &#x27;AcceptedCmp4&#x27;, &#x27;AcceptedCmp5&#x27;, &#x27;Complain&#x27;, &#x27;Kidhome&#x27;, &#x27;Teenhome&#x27;, &#x27;YearsSinceEnrolled&#x27;, &#x27;Children&#x27;, &#x27;AcceptedCmpTotal&#x27;, &#x27;cluster&#x27;]</pre></div></div></div><div class=\"sk-serial\"><div class=\"sk-item\"><div class=\"sk-estimator sk-toggleable\"><input class=\"sk-toggleable__control sk-hidden--visually\" id=\"sk-estimator-id-4\" type=\"checkbox\" ><label for=\"sk-estimator-id-4\" class=\"sk-toggleable__label sk-toggleable__label-arrow\">OneHotEncoder</label><div class=\"sk-toggleable__content\"><pre>OneHotEncoder()</pre></div></div></div></div></div></div><div class=\"sk-parallel-item\"><div class=\"sk-item\"><div class=\"sk-label-container\"><div class=\"sk-label sk-toggleable\"><input class=\"sk-toggleable__control sk-hidden--visually\" id=\"sk-estimator-id-5\" type=\"checkbox\" ><label for=\"sk-estimator-id-5\" class=\"sk-toggleable__label sk-toggleable__label-arrow\">standard</label><div class=\"sk-toggleable__content\"><pre>[&#x27;Income&#x27;, &#x27;Age&#x27;]</pre></div></div></div><div class=\"sk-serial\"><div class=\"sk-item\"><div class=\"sk-estimator sk-toggleable\"><input class=\"sk-toggleable__control sk-hidden--visually\" id=\"sk-estimator-id-6\" type=\"checkbox\" ><label for=\"sk-estimator-id-6\" class=\"sk-toggleable__label sk-toggleable__label-arrow\">StandardScaler</label><div class=\"sk-toggleable__content\"><pre>StandardScaler()</pre></div></div></div></div></div></div><div class=\"sk-parallel-item\"><div class=\"sk-item\"><div class=\"sk-label-container\"><div class=\"sk-label sk-toggleable\"><input class=\"sk-toggleable__control sk-hidden--visually\" id=\"sk-estimator-id-7\" type=\"checkbox\" ><label for=\"sk-estimator-id-7\" class=\"sk-toggleable__label sk-toggleable__label-arrow\">minmax</label><div class=\"sk-toggleable__content\"><pre>[&#x27;Recency&#x27;, &#x27;DaysSinceEnrolled&#x27;]</pre></div></div></div><div class=\"sk-serial\"><div class=\"sk-item\"><div class=\"sk-estimator sk-toggleable\"><input class=\"sk-toggleable__control sk-hidden--visually\" id=\"sk-estimator-id-8\" type=\"checkbox\" ><label for=\"sk-estimator-id-8\" class=\"sk-toggleable__label sk-toggleable__label-arrow\">MinMaxScaler</label><div class=\"sk-toggleable__content\"><pre>MinMaxScaler()</pre></div></div></div></div></div></div><div class=\"sk-parallel-item\"><div class=\"sk-item\"><div class=\"sk-label-container\"><div class=\"sk-label sk-toggleable\"><input class=\"sk-toggleable__control sk-hidden--visually\" id=\"sk-estimator-id-9\" type=\"checkbox\" ><label for=\"sk-estimator-id-9\" class=\"sk-toggleable__label sk-toggleable__label-arrow\">power</label><div class=\"sk-toggleable__content\"><pre>[&#x27;MntWines&#x27;, &#x27;MntFruits&#x27;, &#x27;MntMeatProducts&#x27;, &#x27;MntFishProducts&#x27;, &#x27;MntSweetProducts&#x27;, &#x27;MntGoldProds&#x27;, &#x27;NumDealsPurchases&#x27;, &#x27;NumWebPurchases&#x27;, &#x27;NumCatalogPurchases&#x27;, &#x27;NumStorePurchases&#x27;, &#x27;NumWebVisitsMonth&#x27;, &#x27;MntTotal&#x27;, &#x27;MntRegularProds&#x27;, &#x27;NumTotalPurchases&#x27;]</pre></div></div></div><div class=\"sk-serial\"><div class=\"sk-item\"><div class=\"sk-estimator sk-toggleable\"><input class=\"sk-toggleable__control sk-hidden--visually\" id=\"sk-estimator-id-10\" type=\"checkbox\" ><label for=\"sk-estimator-id-10\" class=\"sk-toggleable__label sk-toggleable__label-arrow\">PowerTransformer</label><div class=\"sk-toggleable__content\"><pre>PowerTransformer()</pre></div></div></div></div></div></div></div></div><div class=\"sk-item\"><div class=\"sk-estimator sk-toggleable\"><input class=\"sk-toggleable__control sk-hidden--visually\" id=\"sk-estimator-id-11\" type=\"checkbox\" ><label for=\"sk-estimator-id-11\" class=\"sk-toggleable__label sk-toggleable__label-arrow\">SelectKBest</label><div class=\"sk-toggleable__content\"><pre>SelectKBest()</pre></div></div></div><div class=\"sk-item\"><div class=\"sk-estimator sk-toggleable\"><input class=\"sk-toggleable__control sk-hidden--visually\" id=\"sk-estimator-id-12\" type=\"checkbox\" ><label for=\"sk-estimator-id-12\" class=\"sk-toggleable__label sk-toggleable__label-arrow\">RandomUnderSampler</label><div class=\"sk-toggleable__content\"><pre>RandomUnderSampler(random_state=42)</pre></div></div></div><div class=\"sk-item\"><div class=\"sk-estimator sk-toggleable\"><input class=\"sk-toggleable__control sk-hidden--visually\" id=\"sk-estimator-id-13\" type=\"checkbox\" ><label for=\"sk-estimator-id-13\" class=\"sk-toggleable__label sk-toggleable__label-arrow\">LogisticRegression</label><div class=\"sk-toggleable__content\"><pre>LogisticRegression(random_state=42)</pre></div></div></div></div></div></div></div>"
      ],
      "text/plain": [
       "Pipeline(steps=[('preprocessing',\n",
       "                 ColumnTransformer(transformers=[('one-hot', OneHotEncoder(),\n",
       "                                                  ['Education',\n",
       "                                                   'Marital_Status', 'AgeGroup',\n",
       "                                                   'HasChildren',\n",
       "                                                   'HasAcceptedCmp',\n",
       "                                                   'AcceptedCmp1',\n",
       "                                                   'AcceptedCmp2',\n",
       "                                                   'AcceptedCmp3',\n",
       "                                                   'AcceptedCmp4',\n",
       "                                                   'AcceptedCmp5', 'Complain',\n",
       "                                                   'Kidhome', 'Teenhome',\n",
       "                                                   'YearsSinceEnrolled',\n",
       "                                                   'Children',\n",
       "                                                   'AcceptedCmpTotal',\n",
       "                                                   'cluster']),\n",
       "                                                 ('standard', Stan...\n",
       "                                                   'MntMeatProducts',\n",
       "                                                   'MntFishProducts',\n",
       "                                                   'MntSweetProducts',\n",
       "                                                   'MntGoldProds',\n",
       "                                                   'NumDealsPurchases',\n",
       "                                                   'NumWebPurchases',\n",
       "                                                   'NumCatalogPurchases',\n",
       "                                                   'NumStorePurchases',\n",
       "                                                   'NumWebVisitsMonth',\n",
       "                                                   'MntTotal',\n",
       "                                                   'MntRegularProds',\n",
       "                                                   'NumTotalPurchases'])])),\n",
       "                ('feature_selection', SelectKBest()),\n",
       "                ('rus', RandomUnderSampler(random_state=42)),\n",
       "                ('model', LogisticRegression(random_state=42))])"
      ]
     },
     "execution_count": 7,
     "metadata": {},
     "output_type": "execute_result"
    }
   ],
   "source": [
    "from sklearn.preprocessing import OneHotEncoder, StandardScaler, MinMaxScaler, PowerTransformer\n",
    "from sklearn.compose import ColumnTransformer\n",
    "from sklearn.linear_model import LogisticRegression\n",
    "from sklearn.model_selection import StratifiedKFold\n",
    "from imblearn.pipeline import Pipeline  # atenção para o Pipeline do ImbLearn\n",
    "from sklearn.feature_selection import SelectKBest, f_classif\n",
    "from imblearn.under_sampling import RandomUnderSampler\n",
    "from sklearn.model_selection import cross_validate\n",
    "\n",
    "RANDOM_STATE = 42\n",
    "\n",
    "skf = StratifiedKFold(n_splits=5, shuffle=True, random_state=RANDOM_STATE)\n",
    "\n",
    "preprocessing = ColumnTransformer(\n",
    "    [\n",
    "        (\"one-hot\", OneHotEncoder(), one_hot_cols),\n",
    "        (\"standard\", StandardScaler(), standard_cols),\n",
    "        (\"minmax\", MinMaxScaler(), minmax_cols),\n",
    "        (\"power\", PowerTransformer(), power_cols),\n",
    "    ]\n",
    ")\n",
    "\n",
    "pipeline_logreg = Pipeline(\n",
    "    [\n",
    "        (\"preprocessing\", preprocessing),\n",
    "        (\"feature_selection\", SelectKBest(score_func=f_classif, k=10)),\n",
    "        (\"rus\", RandomUnderSampler(random_state=RANDOM_STATE)),\n",
    "        (\"model\", LogisticRegression(random_state=RANDOM_STATE))\n",
    "    ]\n",
    ")\n",
    "\n",
    "pipeline_logreg.fit(X, y)"
   ]
  },
  {
   "cell_type": "code",
   "execution_count": 8,
   "id": "07b26759-1494-4e9d-9c6b-0d6b30bb1d5d",
   "metadata": {},
   "outputs": [
    {
     "data": {
      "text/plain": [
       "65"
      ]
     },
     "execution_count": 8,
     "metadata": {},
     "output_type": "execute_result"
    }
   ],
   "source": [
    "len(pipeline_logreg[:-3].get_feature_names_out())"
   ]
  },
  {
   "cell_type": "code",
   "execution_count": 9,
   "id": "a45df1c7-e0e6-469c-a00e-7700a5275571",
   "metadata": {},
   "outputs": [
    {
     "data": {
      "text/plain": [
       "array(['one-hot__HasAcceptedCmp_0', 'one-hot__HasAcceptedCmp_1',\n",
       "       'one-hot__AcceptedCmp1_0', 'one-hot__AcceptedCmp1_1',\n",
       "       'one-hot__AcceptedCmp3_0', 'one-hot__AcceptedCmp3_1',\n",
       "       'one-hot__AcceptedCmp5_0', 'one-hot__AcceptedCmp5_1',\n",
       "       'one-hot__AcceptedCmpTotal_0', 'one-hot__AcceptedCmpTotal_3'],\n",
       "      dtype=object)"
      ]
     },
     "execution_count": 9,
     "metadata": {},
     "output_type": "execute_result"
    }
   ],
   "source": [
    "pipeline_logreg[:-1].get_feature_names_out()"
   ]
  },
  {
   "cell_type": "code",
   "execution_count": 10,
   "id": "1ade69da-b4d0-40ed-8a84-eee9c0590a49",
   "metadata": {},
   "outputs": [
    {
     "data": {
      "image/png": "[encoded data removed]",
      "text/plain": [
       "<Figure size 640x480 with 1 Axes>"
      ]
     },
     "metadata": {},
     "output_type": "display_data"
    }
   ],
   "source": [
    "# ROC\n",
    "from sklearn.metrics import RocCurveDisplay\n",
    "from sklearn.model_selection import cross_val_predict\n",
    "\n",
    "y_pred = cross_val_predict(pipeline_logreg, X, y, cv=skf, n_jobs=-1)\n",
    "\n",
    "roc = RocCurveDisplay.from_predictions(y, y_pred)"
   ]
  },
  {
   "cell_type": "code",
   "execution_count": 11,
   "id": "fc7da2fb-c6d2-46b3-a0f7-89c1046d2361",
   "metadata": {},
   "outputs": [
    {
     "data": {
      "image/png": "[encoded data removed]",
      "text/plain": [
       "<Figure size 640x480 with 1 Axes>"
      ]
     },
     "metadata": {},
     "output_type": "display_data"
    }
   ],
   "source": [
    "# Precision-Recall\n",
    "from sklearn.metrics import PrecisionRecallDisplay\n",
    "\n",
    "y_pred = cross_val_predict(pipeline_logreg, X, y, cv=skf, n_jobs=-1, method=\"decision_function\")\n",
    "\n",
    "prc = PrecisionRecallDisplay.from_predictions(y, y_pred)"
   ]
  },
  {
   "cell_type": "code",
   "execution_count": 12,
   "id": "37593696-e0a5-44fd-9346-09c2cd8c6712",
   "metadata": {},
   "outputs": [
    {
     "data": {
      "text/plain": [
       "{'preprocessing': ColumnTransformer(transformers=[('one-hot', OneHotEncoder(),\n",
       "                                  ['Education', 'Marital_Status', 'AgeGroup',\n",
       "                                   'HasChildren', 'HasAcceptedCmp',\n",
       "                                   'AcceptedCmp1', 'AcceptedCmp2',\n",
       "                                   'AcceptedCmp3', 'AcceptedCmp4',\n",
       "                                   'AcceptedCmp5', 'Complain', 'Kidhome',\n",
       "                                   'Teenhome', 'YearsSinceEnrolled', 'Children',\n",
       "                                   'AcceptedCmpTotal', 'cluster']),\n",
       "                                 ('standard', StandardScaler(),\n",
       "                                  ['Income', 'Age']),\n",
       "                                 ('minmax', MinMaxScaler(),\n",
       "                                  ['Recency', 'DaysSinceEnrolled']),\n",
       "                                 ('power', PowerTransformer(),\n",
       "                                  ['MntWines', 'MntFruits', 'MntMeatProducts',\n",
       "                                   'MntFishProducts', 'MntSweetProducts',\n",
       "                                   'MntGoldProds', 'NumDealsPurchases',\n",
       "                                   'NumWebPurchases', 'NumCatalogPurchases',\n",
       "                                   'NumStorePurchases', 'NumWebVisitsMonth',\n",
       "                                   'MntTotal', 'MntRegularProds',\n",
       "                                   'NumTotalPurchases'])]),\n",
       " 'feature_selection': SelectKBest(),\n",
       " 'rus': RandomUnderSampler(random_state=42),\n",
       " 'model': LogisticRegression(random_state=42)}"
      ]
     },
     "execution_count": 12,
     "metadata": {},
     "output_type": "execute_result"
    }
   ],
   "source": [
    "pipeline_logreg.named_steps"
   ]
  },
  {
   "cell_type": "code",
   "execution_count": 13,
   "id": "2f5df20f-f962-4e64-b736-495e29ab4318",
   "metadata": {},
   "outputs": [
    {
     "data": {
      "text/plain": [
       "array([1.00000000e-07, 2.15443469e-05, 4.64158883e-03, 1.00000000e+00,\n",
       "       2.15443469e+02, 4.64158883e+04, 1.00000000e+07])"
      ]
     },
     "execution_count": 13,
     "metadata": {},
     "output_type": "execute_result"
    }
   ],
   "source": [
    "import numpy as np\n",
    "\n",
    "np.logspace(-7, 7, 7)"
   ]
  },
  {
   "cell_type": "markdown",
   "id": "b4bc2161-2f05-4f08-9d48-2be9ed7a0a9a",
   "metadata": {},
   "source": [
    "**ALUNOS**: Explicar o procedimento de GridSearchCV e falar brevemente dos parâmetros escolhidos para estudo."
   ]
  },
  {
   "cell_type": "code",
   "execution_count": 14,
   "id": "622b2f56-d0a9-4937-9ab4-0cc04d26dcc4",
   "metadata": {},
   "outputs": [],
   "source": [
    "from sklearn.model_selection import GridSearchCV\n",
    "\n",
    "param_grid = {\n",
    "    \"feature_selection__k\": [10, 15, 20, 25],\n",
    "    \"model__C\": np.logspace(-3, 3, 7),\n",
    "    \"model__solver\": [\"liblinear\", \"lbfgs\", \"saga\"],\n",
    "    \"model__penalty\": [\"l1\", \"l2\", \"elasticnet\", \"none\"],\n",
    "}\n",
    "\n",
    "grid_search = GridSearchCV(\n",
    "    pipeline_logreg,\n",
    "    param_grid,\n",
    "    scoring=[\"roc_auc\", \"average_precision\", \"accuracy\"],\n",
    "    n_jobs=-1,\n",
    "    refit=\"average_precision\"\n",
    ")"
   ]
  },
  {
   "cell_type": "code",
   "execution_count": 15,
   "id": "91786e24-c23a-4ff5-8d1c-c8908a177731",
   "metadata": {},
   "outputs": [
    {
     "data": {
      "text/html": [
       "<style>#sk-container-id-2 {color: black;}#sk-container-id-2 pre{padding: 0;}#sk-container-id-2 div.sk-toggleable {background-color: white;}#sk-container-id-2 label.sk-toggleable__label {cursor: pointer;display: block;width: 100%;margin-bottom: 0;padding: 0.3em;box-sizing: border-box;text-align: center;}#sk-container-id-2 label.sk-toggleable__label-arrow:before {content: \"▸\";float: left;margin-right: 0.25em;color: #696969;}#sk-container-id-2 label.sk-toggleable__label-arrow:hover:before {color: black;}#sk-container-id-2 div.sk-estimator:hover label.sk-toggleable__label-arrow:before {color: black;}#sk-container-id-2 div.sk-toggleable__content {max-height: 0;max-width: 0;overflow: hidden;text-align: left;background-color: #f0f8ff;}#sk-container-id-2 div.sk-toggleable__content pre {margin: 0.2em;color: black;border-radius: 0.25em;background-color: #f0f8ff;}#sk-container-id-2 input.sk-toggleable__control:checked~div.sk-toggleable__content {max-height: 200px;max-width: 100%;overflow: auto;}#sk-container-id-2 input.sk-toggleable__control:checked~label.sk-toggleable__label-arrow:before {content: \"▾\";}#sk-container-id-2 div.sk-estimator input.sk-toggleable__control:checked~label.sk-toggleable__label {background-color: #d4ebff;}#sk-container-id-2 div.sk-label input.sk-toggleable__control:checked~label.sk-toggleable__label {background-color: #d4ebff;}#sk-container-id-2 input.sk-hidden--visually {border: 0;clip: rect(1px 1px 1px 1px);clip: rect(1px, 1px, 1px, 1px);height: 1px;margin: -1px;overflow: hidden;padding: 0;position: absolute;width: 1px;}#sk-container-id-2 div.sk-estimator {font-family: monospace;background-color: #f0f8ff;border: 1px dotted black;border-radius: 0.25em;box-sizing: border-box;margin-bottom: 0.5em;}#sk-container-id-2 div.sk-estimator:hover {background-color: #d4ebff;}#sk-container-id-2 div.sk-parallel-item::after {content: \"\";width: 100%;border-bottom: 1px solid gray;flex-grow: 1;}#sk-container-id-2 div.sk-label:hover label.sk-toggleable__label {background-color: #d4ebff;}#sk-container-id-2 div.sk-serial::before {content: \"\";position: absolute;border-left: 1px solid gray;box-sizing: border-box;top: 0;bottom: 0;left: 50%;z-index: 0;}#sk-container-id-2 div.sk-serial {display: flex;flex-direction: column;align-items: center;background-color: white;padding-right: 0.2em;padding-left: 0.2em;position: relative;}#sk-container-id-2 div.sk-item {position: relative;z-index: 1;}#sk-container-id-2 div.sk-parallel {display: flex;align-items: stretch;justify-content: center;background-color: white;position: relative;}#sk-container-id-2 div.sk-item::before, #sk-container-id-2 div.sk-parallel-item::before {content: \"\";position: absolute;border-left: 1px solid gray;box-sizing: border-box;top: 0;bottom: 0;left: 50%;z-index: -1;}#sk-container-id-2 div.sk-parallel-item {display: flex;flex-direction: column;z-index: 1;position: relative;background-color: white;}#sk-container-id-2 div.sk-parallel-item:first-child::after {align-self: flex-end;width: 50%;}#sk-container-id-2 div.sk-parallel-item:last-child::after {align-self: flex-start;width: 50%;}#sk-container-id-2 div.sk-parallel-item:only-child::after {width: 0;}#sk-container-id-2 div.sk-dashed-wrapped {border: 1px dashed gray;margin: 0 0.4em 0.5em 0.4em;box-sizing: border-box;padding-bottom: 0.4em;background-color: white;}#sk-container-id-2 div.sk-label label {font-family: monospace;font-weight: bold;display: inline-block;line-height: 1.2em;}#sk-container-id-2 div.sk-label-container {text-align: center;}#sk-container-id-2 div.sk-container {/* jupyter's `normalize.less` sets `[hidden] { display: none; }` but bootstrap.min.css set `[hidden] { display: none !important; }` so we also need the `!important` here to be able to override the default hidden behavior on the sphinx rendered scikit-learn.org. See: https://github.com/scikit-learn/scikit-learn/issues/21755 */display: inline-block !important;position: relative;}#sk-container-id-2 div.sk-text-repr-fallback {display: none;}</style><div id=\"sk-container-id-2\" class=\"sk-top-container\"><div class=\"sk-text-repr-fallback\"><pre>GridSearchCV(estimator=Pipeline(steps=[(&#x27;preprocessing&#x27;,\n",
       "                                        ColumnTransformer(transformers=[(&#x27;one-hot&#x27;,\n",
       "                                                                         OneHotEncoder(),\n",
       "                                                                         [&#x27;Education&#x27;,\n",
       "                                                                          &#x27;Marital_Status&#x27;,\n",
       "                                                                          &#x27;AgeGroup&#x27;,\n",
       "                                                                          &#x27;HasChildren&#x27;,\n",
       "                                                                          &#x27;HasAcceptedCmp&#x27;,\n",
       "                                                                          &#x27;AcceptedCmp1&#x27;,\n",
       "                                                                          &#x27;AcceptedCmp2&#x27;,\n",
       "                                                                          &#x27;AcceptedCmp3&#x27;,\n",
       "                                                                          &#x27;AcceptedCmp4&#x27;,\n",
       "                                                                          &#x27;AcceptedCmp5&#x27;,\n",
       "                                                                          &#x27;Complain&#x27;,\n",
       "                                                                          &#x27;Kidhome&#x27;,\n",
       "                                                                          &#x27;Teenhome&#x27;,\n",
       "                                                                          &#x27;YearsSinceEnrolled&#x27;,\n",
       "                                                                          &#x27;Children&#x27;,\n",
       "                                                                          &#x27;AcceptedCmpTotal&#x27;,\n",
       "                                                                          &#x27;clus...\n",
       "                                        RandomUnderSampler(random_state=42)),\n",
       "                                       (&#x27;model&#x27;,\n",
       "                                        LogisticRegression(random_state=42))]),\n",
       "             n_jobs=-1,\n",
       "             param_grid={&#x27;feature_selection__k&#x27;: [10, 15, 20, 25],\n",
       "                         &#x27;model__C&#x27;: array([1.e-03, 1.e-02, 1.e-01, 1.e+00, 1.e+01, 1.e+02, 1.e+03]),\n",
       "                         &#x27;model__penalty&#x27;: [&#x27;l1&#x27;, &#x27;l2&#x27;, &#x27;elasticnet&#x27;, &#x27;none&#x27;],\n",
       "                         &#x27;model__solver&#x27;: [&#x27;liblinear&#x27;, &#x27;lbfgs&#x27;, &#x27;saga&#x27;]},\n",
       "             refit=&#x27;average_precision&#x27;,\n",
       "             scoring=[&#x27;roc_auc&#x27;, &#x27;average_precision&#x27;, &#x27;accuracy&#x27;])</pre><b>In a Jupyter environment, please rerun this cell to show the HTML representation or trust the notebook. <br />On GitHub, the HTML representation is unable to render, please try loading this page with nbviewer.org.</b></div><div class=\"sk-container\" hidden><div class=\"sk-item sk-dashed-wrapped\"><div class=\"sk-label-container\"><div class=\"sk-label sk-toggleable\"><input class=\"sk-toggleable__control sk-hidden--visually\" id=\"sk-estimator-id-14\" type=\"checkbox\" ><label for=\"sk-estimator-id-14\" class=\"sk-toggleable__label sk-toggleable__label-arrow\">GridSearchCV</label><div class=\"sk-toggleable__content\"><pre>GridSearchCV(estimator=Pipeline(steps=[(&#x27;preprocessing&#x27;,\n",
       "                                        ColumnTransformer(transformers=[(&#x27;one-hot&#x27;,\n",
       "                                                                         OneHotEncoder(),\n",
       "                                                                         [&#x27;Education&#x27;,\n",
       "                                                                          &#x27;Marital_Status&#x27;,\n",
       "                                                                          &#x27;AgeGroup&#x27;,\n",
       "                                                                          &#x27;HasChildren&#x27;,\n",
       "                                                                          &#x27;HasAcceptedCmp&#x27;,\n",
       "                                                                          &#x27;AcceptedCmp1&#x27;,\n",
       "                                                                          &#x27;AcceptedCmp2&#x27;,\n",
       "                                                                          &#x27;AcceptedCmp3&#x27;,\n",
       "                                                                          &#x27;AcceptedCmp4&#x27;,\n",
       "                                                                          &#x27;AcceptedCmp5&#x27;,\n",
       "                                                                          &#x27;Complain&#x27;,\n",
       "                                                                          &#x27;Kidhome&#x27;,\n",
       "                                                                          &#x27;Teenhome&#x27;,\n",
       "                                                                          &#x27;YearsSinceEnrolled&#x27;,\n",
       "                                                                          &#x27;Children&#x27;,\n",
       "                                                                          &#x27;AcceptedCmpTotal&#x27;,\n",
       "                                                                          &#x27;clus...\n",
       "                                        RandomUnderSampler(random_state=42)),\n",
       "                                       (&#x27;model&#x27;,\n",
       "                                        LogisticRegression(random_state=42))]),\n",
       "             n_jobs=-1,\n",
       "             param_grid={&#x27;feature_selection__k&#x27;: [10, 15, 20, 25],\n",
       "                         &#x27;model__C&#x27;: array([1.e-03, 1.e-02, 1.e-01, 1.e+00, 1.e+01, 1.e+02, 1.e+03]),\n",
       "                         &#x27;model__penalty&#x27;: [&#x27;l1&#x27;, &#x27;l2&#x27;, &#x27;elasticnet&#x27;, &#x27;none&#x27;],\n",
       "                         &#x27;model__solver&#x27;: [&#x27;liblinear&#x27;, &#x27;lbfgs&#x27;, &#x27;saga&#x27;]},\n",
       "             refit=&#x27;average_precision&#x27;,\n",
       "             scoring=[&#x27;roc_auc&#x27;, &#x27;average_precision&#x27;, &#x27;accuracy&#x27;])</pre></div></div></div><div class=\"sk-parallel\"><div class=\"sk-parallel-item\"><div class=\"sk-item\"><div class=\"sk-label-container\"><div class=\"sk-label sk-toggleable\"><input class=\"sk-toggleable__control sk-hidden--visually\" id=\"sk-estimator-id-15\" type=\"checkbox\" ><label for=\"sk-estimator-id-15\" class=\"sk-toggleable__label sk-toggleable__label-arrow\">estimator: Pipeline</label><div class=\"sk-toggleable__content\"><pre>Pipeline(steps=[(&#x27;preprocessing&#x27;,\n",
       "                 ColumnTransformer(transformers=[(&#x27;one-hot&#x27;, OneHotEncoder(),\n",
       "                                                  [&#x27;Education&#x27;,\n",
       "                                                   &#x27;Marital_Status&#x27;, &#x27;AgeGroup&#x27;,\n",
       "                                                   &#x27;HasChildren&#x27;,\n",
       "                                                   &#x27;HasAcceptedCmp&#x27;,\n",
       "                                                   &#x27;AcceptedCmp1&#x27;,\n",
       "                                                   &#x27;AcceptedCmp2&#x27;,\n",
       "                                                   &#x27;AcceptedCmp3&#x27;,\n",
       "                                                   &#x27;AcceptedCmp4&#x27;,\n",
       "                                                   &#x27;AcceptedCmp5&#x27;, &#x27;Complain&#x27;,\n",
       "                                                   &#x27;Kidhome&#x27;, &#x27;Teenhome&#x27;,\n",
       "                                                   &#x27;YearsSinceEnrolled&#x27;,\n",
       "                                                   &#x27;Children&#x27;,\n",
       "                                                   &#x27;AcceptedCmpTotal&#x27;,\n",
       "                                                   &#x27;cluster&#x27;]),\n",
       "                                                 (&#x27;standard&#x27;, Stan...\n",
       "                                                   &#x27;MntMeatProducts&#x27;,\n",
       "                                                   &#x27;MntFishProducts&#x27;,\n",
       "                                                   &#x27;MntSweetProducts&#x27;,\n",
       "                                                   &#x27;MntGoldProds&#x27;,\n",
       "                                                   &#x27;NumDealsPurchases&#x27;,\n",
       "                                                   &#x27;NumWebPurchases&#x27;,\n",
       "                                                   &#x27;NumCatalogPurchases&#x27;,\n",
       "                                                   &#x27;NumStorePurchases&#x27;,\n",
       "                                                   &#x27;NumWebVisitsMonth&#x27;,\n",
       "                                                   &#x27;MntTotal&#x27;,\n",
       "                                                   &#x27;MntRegularProds&#x27;,\n",
       "                                                   &#x27;NumTotalPurchases&#x27;])])),\n",
       "                (&#x27;feature_selection&#x27;, SelectKBest()),\n",
       "                (&#x27;rus&#x27;, RandomUnderSampler(random_state=42)),\n",
       "                (&#x27;model&#x27;, LogisticRegression(random_state=42))])</pre></div></div></div><div class=\"sk-serial\"><div class=\"sk-item\"><div class=\"sk-serial\"><div class=\"sk-item sk-dashed-wrapped\"><div class=\"sk-label-container\"><div class=\"sk-label sk-toggleable\"><input class=\"sk-toggleable__control sk-hidden--visually\" id=\"sk-estimator-id-16\" type=\"checkbox\" ><label for=\"sk-estimator-id-16\" class=\"sk-toggleable__label sk-toggleable__label-arrow\">preprocessing: ColumnTransformer</label><div class=\"sk-toggleable__content\"><pre>ColumnTransformer(transformers=[(&#x27;one-hot&#x27;, OneHotEncoder(),\n",
       "                                 [&#x27;Education&#x27;, &#x27;Marital_Status&#x27;, &#x27;AgeGroup&#x27;,\n",
       "                                  &#x27;HasChildren&#x27;, &#x27;HasAcceptedCmp&#x27;,\n",
       "                                  &#x27;AcceptedCmp1&#x27;, &#x27;AcceptedCmp2&#x27;,\n",
       "                                  &#x27;AcceptedCmp3&#x27;, &#x27;AcceptedCmp4&#x27;,\n",
       "                                  &#x27;AcceptedCmp5&#x27;, &#x27;Complain&#x27;, &#x27;Kidhome&#x27;,\n",
       "                                  &#x27;Teenhome&#x27;, &#x27;YearsSinceEnrolled&#x27;, &#x27;Children&#x27;,\n",
       "                                  &#x27;AcceptedCmpTotal&#x27;, &#x27;cluster&#x27;]),\n",
       "                                (&#x27;standard&#x27;, StandardScaler(),\n",
       "                                 [&#x27;Income&#x27;, &#x27;Age&#x27;]),\n",
       "                                (&#x27;minmax&#x27;, MinMaxScaler(),\n",
       "                                 [&#x27;Recency&#x27;, &#x27;DaysSinceEnrolled&#x27;]),\n",
       "                                (&#x27;power&#x27;, PowerTransformer(),\n",
       "                                 [&#x27;MntWines&#x27;, &#x27;MntFruits&#x27;, &#x27;MntMeatProducts&#x27;,\n",
       "                                  &#x27;MntFishProducts&#x27;, &#x27;MntSweetProducts&#x27;,\n",
       "                                  &#x27;MntGoldProds&#x27;, &#x27;NumDealsPurchases&#x27;,\n",
       "                                  &#x27;NumWebPurchases&#x27;, &#x27;NumCatalogPurchases&#x27;,\n",
       "                                  &#x27;NumStorePurchases&#x27;, &#x27;NumWebVisitsMonth&#x27;,\n",
       "                                  &#x27;MntTotal&#x27;, &#x27;MntRegularProds&#x27;,\n",
       "                                  &#x27;NumTotalPurchases&#x27;])])</pre></div></div></div><div class=\"sk-parallel\"><div class=\"sk-parallel-item\"><div class=\"sk-item\"><div class=\"sk-label-container\"><div class=\"sk-label sk-toggleable\"><input class=\"sk-toggleable__control sk-hidden--visually\" id=\"sk-estimator-id-17\" type=\"checkbox\" ><label for=\"sk-estimator-id-17\" class=\"sk-toggleable__label sk-toggleable__label-arrow\">one-hot</label><div class=\"sk-toggleable__content\"><pre>[&#x27;Education&#x27;, &#x27;Marital_Status&#x27;, &#x27;AgeGroup&#x27;, &#x27;HasChildren&#x27;, &#x27;HasAcceptedCmp&#x27;, &#x27;AcceptedCmp1&#x27;, &#x27;AcceptedCmp2&#x27;, &#x27;AcceptedCmp3&#x27;, &#x27;AcceptedCmp4&#x27;, &#x27;AcceptedCmp5&#x27;, &#x27;Complain&#x27;, &#x27;Kidhome&#x27;, &#x27;Teenhome&#x27;, &#x27;YearsSinceEnrolled&#x27;, &#x27;Children&#x27;, &#x27;AcceptedCmpTotal&#x27;, &#x27;cluster&#x27;]</pre></div></div></div><div class=\"sk-serial\"><div class=\"sk-item\"><div class=\"sk-estimator sk-toggleable\"><input class=\"sk-toggleable__control sk-hidden--visually\" id=\"sk-estimator-id-18\" type=\"checkbox\" ><label for=\"sk-estimator-id-18\" class=\"sk-toggleable__label sk-toggleable__label-arrow\">OneHotEncoder</label><div class=\"sk-toggleable__content\"><pre>OneHotEncoder()</pre></div></div></div></div></div></div><div class=\"sk-parallel-item\"><div class=\"sk-item\"><div class=\"sk-label-container\"><div class=\"sk-label sk-toggleable\"><input class=\"sk-toggleable__control sk-hidden--visually\" id=\"sk-estimator-id-19\" type=\"checkbox\" ><label for=\"sk-estimator-id-19\" class=\"sk-toggleable__label sk-toggleable__label-arrow\">standard</label><div class=\"sk-toggleable__content\"><pre>[&#x27;Income&#x27;, &#x27;Age&#x27;]</pre></div></div></div><div class=\"sk-serial\"><div class=\"sk-item\"><div class=\"sk-estimator sk-toggleable\"><input class=\"sk-toggleable__control sk-hidden--visually\" id=\"sk-estimator-id-20\" type=\"checkbox\" ><label for=\"sk-estimator-id-20\" class=\"sk-toggleable__label sk-toggleable__label-arrow\">StandardScaler</label><div class=\"sk-toggleable__content\"><pre>StandardScaler()</pre></div></div></div></div></div></div><div class=\"sk-parallel-item\"><div class=\"sk-item\"><div class=\"sk-label-container\"><div class=\"sk-label sk-toggleable\"><input class=\"sk-toggleable__control sk-hidden--visually\" id=\"sk-estimator-id-21\" type=\"checkbox\" ><label for=\"sk-estimator-id-21\" class=\"sk-toggleable__label sk-toggleable__label-arrow\">minmax</label><div class=\"sk-toggleable__content\"><pre>[&#x27;Recency&#x27;, &#x27;DaysSinceEnrolled&#x27;]</pre></div></div></div><div class=\"sk-serial\"><div class=\"sk-item\"><div class=\"sk-estimator sk-toggleable\"><input class=\"sk-toggleable__control sk-hidden--visually\" id=\"sk-estimator-id-22\" type=\"checkbox\" ><label for=\"sk-estimator-id-22\" class=\"sk-toggleable__label sk-toggleable__label-arrow\">MinMaxScaler</label><div class=\"sk-toggleable__content\"><pre>MinMaxScaler()</pre></div></div></div></div></div></div><div class=\"sk-parallel-item\"><div class=\"sk-item\"><div class=\"sk-label-container\"><div class=\"sk-label sk-toggleable\"><input class=\"sk-toggleable__control sk-hidden--visually\" id=\"sk-estimator-id-23\" type=\"checkbox\" ><label for=\"sk-estimator-id-23\" class=\"sk-toggleable__label sk-toggleable__label-arrow\">power</label><div class=\"sk-toggleable__content\"><pre>[&#x27;MntWines&#x27;, &#x27;MntFruits&#x27;, &#x27;MntMeatProducts&#x27;, &#x27;MntFishProducts&#x27;, &#x27;MntSweetProducts&#x27;, &#x27;MntGoldProds&#x27;, &#x27;NumDealsPurchases&#x27;, &#x27;NumWebPurchases&#x27;, &#x27;NumCatalogPurchases&#x27;, &#x27;NumStorePurchases&#x27;, &#x27;NumWebVisitsMonth&#x27;, &#x27;MntTotal&#x27;, &#x27;MntRegularProds&#x27;, &#x27;NumTotalPurchases&#x27;]</pre></div></div></div><div class=\"sk-serial\"><div class=\"sk-item\"><div class=\"sk-estimator sk-toggleable\"><input class=\"sk-toggleable__control sk-hidden--visually\" id=\"sk-estimator-id-24\" type=\"checkbox\" ><label for=\"sk-estimator-id-24\" class=\"sk-toggleable__label sk-toggleable__label-arrow\">PowerTransformer</label><div class=\"sk-toggleable__content\"><pre>PowerTransformer()</pre></div></div></div></div></div></div></div></div><div class=\"sk-item\"><div class=\"sk-estimator sk-toggleable\"><input class=\"sk-toggleable__control sk-hidden--visually\" id=\"sk-estimator-id-25\" type=\"checkbox\" ><label for=\"sk-estimator-id-25\" class=\"sk-toggleable__label sk-toggleable__label-arrow\">SelectKBest</label><div class=\"sk-toggleable__content\"><pre>SelectKBest()</pre></div></div></div><div class=\"sk-item\"><div class=\"sk-estimator sk-toggleable\"><input class=\"sk-toggleable__control sk-hidden--visually\" id=\"sk-estimator-id-26\" type=\"checkbox\" ><label for=\"sk-estimator-id-26\" class=\"sk-toggleable__label sk-toggleable__label-arrow\">RandomUnderSampler</label><div class=\"sk-toggleable__content\"><pre>RandomUnderSampler(random_state=42)</pre></div></div></div><div class=\"sk-item\"><div class=\"sk-estimator sk-toggleable\"><input class=\"sk-toggleable__control sk-hidden--visually\" id=\"sk-estimator-id-27\" type=\"checkbox\" ><label for=\"sk-estimator-id-27\" class=\"sk-toggleable__label sk-toggleable__label-arrow\">LogisticRegression</label><div class=\"sk-toggleable__content\"><pre>LogisticRegression(random_state=42)</pre></div></div></div></div></div></div></div></div></div></div></div></div>"
      ],
      "text/plain": [
       "GridSearchCV(estimator=Pipeline(steps=[('preprocessing',\n",
       "                                        ColumnTransformer(transformers=[('one-hot',\n",
       "                                                                         OneHotEncoder(),\n",
       "                                                                         ['Education',\n",
       "                                                                          'Marital_Status',\n",
       "                                                                          'AgeGroup',\n",
       "                                                                          'HasChildren',\n",
       "                                                                          'HasAcceptedCmp',\n",
       "                                                                          'AcceptedCmp1',\n",
       "                                                                          'AcceptedCmp2',\n",
       "                                                                          'AcceptedCmp3',\n",
       "                                                                          'AcceptedCmp4',\n",
       "                                                                          'AcceptedCmp5',\n",
       "                                                                          'Complain',\n",
       "                                                                          'Kidhome',\n",
       "                                                                          'Teenhome',\n",
       "                                                                          'YearsSinceEnrolled',\n",
       "                                                                          'Children',\n",
       "                                                                          'AcceptedCmpTotal',\n",
       "                                                                          'clus...\n",
       "                                        RandomUnderSampler(random_state=42)),\n",
       "                                       ('model',\n",
       "                                        LogisticRegression(random_state=42))]),\n",
       "             n_jobs=-1,\n",
       "             param_grid={'feature_selection__k': [10, 15, 20, 25],\n",
       "                         'model__C': array([1.e-03, 1.e-02, 1.e-01, 1.e+00, 1.e+01, 1.e+02, 1.e+03]),\n",
       "                         'model__penalty': ['l1', 'l2', 'elasticnet', 'none'],\n",
       "                         'model__solver': ['liblinear', 'lbfgs', 'saga']},\n",
       "             refit='average_precision',\n",
       "             scoring=['roc_auc', 'average_precision', 'accuracy'])"
      ]
     },
     "execution_count": 15,
     "metadata": {},
     "output_type": "execute_result"
    }
   ],
   "source": [
    "grid_search"
   ]
  },
  {
   "cell_type": "code",
   "execution_count": 16,
   "id": "c1862dc6-ecb5-4be5-8010-acb49b669f66",
   "metadata": {},
   "outputs": [],
   "source": [
    "import warnings\n",
    "\n",
    "warnings.filterwarnings(\"ignore\")"
   ]
  },
  {
   "cell_type": "code",
   "execution_count": 17,
   "id": "dde8be1c-0e13-483c-a273-1ae6e7e92133",
   "metadata": {},
   "outputs": [
    {
     "data": {
      "text/html": [
       "<style>#sk-container-id-3 {color: black;}#sk-container-id-3 pre{padding: 0;}#sk-container-id-3 div.sk-toggleable {background-color: white;}#sk-container-id-3 label.sk-toggleable__label {cursor: pointer;display: block;width: 100%;margin-bottom: 0;padding: 0.3em;box-sizing: border-box;text-align: center;}#sk-container-id-3 label.sk-toggleable__label-arrow:before {content: \"▸\";float: left;margin-right: 0.25em;color: #696969;}#sk-container-id-3 label.sk-toggleable__label-arrow:hover:before {color: black;}#sk-container-id-3 div.sk-estimator:hover label.sk-toggleable__label-arrow:before {color: black;}#sk-container-id-3 div.sk-toggleable__content {max-height: 0;max-width: 0;overflow: hidden;text-align: left;background-color: #f0f8ff;}#sk-container-id-3 div.sk-toggleable__content pre {margin: 0.2em;color: black;border-radius: 0.25em;background-color: #f0f8ff;}#sk-container-id-3 input.sk-toggleable__control:checked~div.sk-toggleable__content {max-height: 200px;max-width: 100%;overflow: auto;}#sk-container-id-3 input.sk-toggleable__control:checked~label.sk-toggleable__label-arrow:before {content: \"▾\";}#sk-container-id-3 div.sk-estimator input.sk-toggleable__control:checked~label.sk-toggleable__label {background-color: #d4ebff;}#sk-container-id-3 div.sk-label input.sk-toggleable__control:checked~label.sk-toggleable__label {background-color: #d4ebff;}#sk-container-id-3 input.sk-hidden--visually {border: 0;clip: rect(1px 1px 1px 1px);clip: rect(1px, 1px, 1px, 1px);height: 1px;margin: -1px;overflow: hidden;padding: 0;position: absolute;width: 1px;}#sk-container-id-3 div.sk-estimator {font-family: monospace;background-color: #f0f8ff;border: 1px dotted black;border-radius: 0.25em;box-sizing: border-box;margin-bottom: 0.5em;}#sk-container-id-3 div.sk-estimator:hover {background-color: #d4ebff;}#sk-container-id-3 div.sk-parallel-item::after {content: \"\";width: 100%;border-bottom: 1px solid gray;flex-grow: 1;}#sk-container-id-3 div.sk-label:hover label.sk-toggleable__label {background-color: #d4ebff;}#sk-container-id-3 div.sk-serial::before {content: \"\";position: absolute;border-left: 1px solid gray;box-sizing: border-box;top: 0;bottom: 0;left: 50%;z-index: 0;}#sk-container-id-3 div.sk-serial {display: flex;flex-direction: column;align-items: center;background-color: white;padding-right: 0.2em;padding-left: 0.2em;position: relative;}#sk-container-id-3 div.sk-item {position: relative;z-index: 1;}#sk-container-id-3 div.sk-parallel {display: flex;align-items: stretch;justify-content: center;background-color: white;position: relative;}#sk-container-id-3 div.sk-item::before, #sk-container-id-3 div.sk-parallel-item::before {content: \"\";position: absolute;border-left: 1px solid gray;box-sizing: border-box;top: 0;bottom: 0;left: 50%;z-index: -1;}#sk-container-id-3 div.sk-parallel-item {display: flex;flex-direction: column;z-index: 1;position: relative;background-color: white;}#sk-container-id-3 div.sk-parallel-item:first-child::after {align-self: flex-end;width: 50%;}#sk-container-id-3 div.sk-parallel-item:last-child::after {align-self: flex-start;width: 50%;}#sk-container-id-3 div.sk-parallel-item:only-child::after {width: 0;}#sk-container-id-3 div.sk-dashed-wrapped {border: 1px dashed gray;margin: 0 0.4em 0.5em 0.4em;box-sizing: border-box;padding-bottom: 0.4em;background-color: white;}#sk-container-id-3 div.sk-label label {font-family: monospace;font-weight: bold;display: inline-block;line-height: 1.2em;}#sk-container-id-3 div.sk-label-container {text-align: center;}#sk-container-id-3 div.sk-container {/* jupyter's `normalize.less` sets `[hidden] { display: none; }` but bootstrap.min.css set `[hidden] { display: none !important; }` so we also need the `!important` here to be able to override the default hidden behavior on the sphinx rendered scikit-learn.org. See: https://github.com/scikit-learn/scikit-learn/issues/21755 */display: inline-block !important;position: relative;}#sk-container-id-3 div.sk-text-repr-fallback {display: none;}</style><div id=\"sk-container-id-3\" class=\"sk-top-container\"><div class=\"sk-text-repr-fallback\"><pre>GridSearchCV(estimator=Pipeline(steps=[(&#x27;preprocessing&#x27;,\n",
       "                                        ColumnTransformer(transformers=[(&#x27;one-hot&#x27;,\n",
       "                                                                         OneHotEncoder(),\n",
       "                                                                         [&#x27;Education&#x27;,\n",
       "                                                                          &#x27;Marital_Status&#x27;,\n",
       "                                                                          &#x27;AgeGroup&#x27;,\n",
       "                                                                          &#x27;HasChildren&#x27;,\n",
       "                                                                          &#x27;HasAcceptedCmp&#x27;,\n",
       "                                                                          &#x27;AcceptedCmp1&#x27;,\n",
       "                                                                          &#x27;AcceptedCmp2&#x27;,\n",
       "                                                                          &#x27;AcceptedCmp3&#x27;,\n",
       "                                                                          &#x27;AcceptedCmp4&#x27;,\n",
       "                                                                          &#x27;AcceptedCmp5&#x27;,\n",
       "                                                                          &#x27;Complain&#x27;,\n",
       "                                                                          &#x27;Kidhome&#x27;,\n",
       "                                                                          &#x27;Teenhome&#x27;,\n",
       "                                                                          &#x27;YearsSinceEnrolled&#x27;,\n",
       "                                                                          &#x27;Children&#x27;,\n",
       "                                                                          &#x27;AcceptedCmpTotal&#x27;,\n",
       "                                                                          &#x27;clus...\n",
       "                                        RandomUnderSampler(random_state=42)),\n",
       "                                       (&#x27;model&#x27;,\n",
       "                                        LogisticRegression(random_state=42))]),\n",
       "             n_jobs=-1,\n",
       "             param_grid={&#x27;feature_selection__k&#x27;: [10, 15, 20, 25],\n",
       "                         &#x27;model__C&#x27;: array([1.e-03, 1.e-02, 1.e-01, 1.e+00, 1.e+01, 1.e+02, 1.e+03]),\n",
       "                         &#x27;model__penalty&#x27;: [&#x27;l1&#x27;, &#x27;l2&#x27;, &#x27;elasticnet&#x27;, &#x27;none&#x27;],\n",
       "                         &#x27;model__solver&#x27;: [&#x27;liblinear&#x27;, &#x27;lbfgs&#x27;, &#x27;saga&#x27;]},\n",
       "             refit=&#x27;average_precision&#x27;,\n",
       "             scoring=[&#x27;roc_auc&#x27;, &#x27;average_precision&#x27;, &#x27;accuracy&#x27;])</pre><b>In a Jupyter environment, please rerun this cell to show the HTML representation or trust the notebook. <br />On GitHub, the HTML representation is unable to render, please try loading this page with nbviewer.org.</b></div><div class=\"sk-container\" hidden><div class=\"sk-item sk-dashed-wrapped\"><div class=\"sk-label-container\"><div class=\"sk-label sk-toggleable\"><input class=\"sk-toggleable__control sk-hidden--visually\" id=\"sk-estimator-id-28\" type=\"checkbox\" ><label for=\"sk-estimator-id-28\" class=\"sk-toggleable__label sk-toggleable__label-arrow\">GridSearchCV</label><div class=\"sk-toggleable__content\"><pre>GridSearchCV(estimator=Pipeline(steps=[(&#x27;preprocessing&#x27;,\n",
       "                                        ColumnTransformer(transformers=[(&#x27;one-hot&#x27;,\n",
       "                                                                         OneHotEncoder(),\n",
       "                                                                         [&#x27;Education&#x27;,\n",
       "                                                                          &#x27;Marital_Status&#x27;,\n",
       "                                                                          &#x27;AgeGroup&#x27;,\n",
       "                                                                          &#x27;HasChildren&#x27;,\n",
       "                                                                          &#x27;HasAcceptedCmp&#x27;,\n",
       "                                                                          &#x27;AcceptedCmp1&#x27;,\n",
       "                                                                          &#x27;AcceptedCmp2&#x27;,\n",
       "                                                                          &#x27;AcceptedCmp3&#x27;,\n",
       "                                                                          &#x27;AcceptedCmp4&#x27;,\n",
       "                                                                          &#x27;AcceptedCmp5&#x27;,\n",
       "                                                                          &#x27;Complain&#x27;,\n",
       "                                                                          &#x27;Kidhome&#x27;,\n",
       "                                                                          &#x27;Teenhome&#x27;,\n",
       "                                                                          &#x27;YearsSinceEnrolled&#x27;,\n",
       "                                                                          &#x27;Children&#x27;,\n",
       "                                                                          &#x27;AcceptedCmpTotal&#x27;,\n",
       "                                                                          &#x27;clus...\n",
       "                                        RandomUnderSampler(random_state=42)),\n",
       "                                       (&#x27;model&#x27;,\n",
       "                                        LogisticRegression(random_state=42))]),\n",
       "             n_jobs=-1,\n",
       "             param_grid={&#x27;feature_selection__k&#x27;: [10, 15, 20, 25],\n",
       "                         &#x27;model__C&#x27;: array([1.e-03, 1.e-02, 1.e-01, 1.e+00, 1.e+01, 1.e+02, 1.e+03]),\n",
       "                         &#x27;model__penalty&#x27;: [&#x27;l1&#x27;, &#x27;l2&#x27;, &#x27;elasticnet&#x27;, &#x27;none&#x27;],\n",
       "                         &#x27;model__solver&#x27;: [&#x27;liblinear&#x27;, &#x27;lbfgs&#x27;, &#x27;saga&#x27;]},\n",
       "             refit=&#x27;average_precision&#x27;,\n",
       "             scoring=[&#x27;roc_auc&#x27;, &#x27;average_precision&#x27;, &#x27;accuracy&#x27;])</pre></div></div></div><div class=\"sk-parallel\"><div class=\"sk-parallel-item\"><div class=\"sk-item\"><div class=\"sk-label-container\"><div class=\"sk-label sk-toggleable\"><input class=\"sk-toggleable__control sk-hidden--visually\" id=\"sk-estimator-id-29\" type=\"checkbox\" ><label for=\"sk-estimator-id-29\" class=\"sk-toggleable__label sk-toggleable__label-arrow\">estimator: Pipeline</label><div class=\"sk-toggleable__content\"><pre>Pipeline(steps=[(&#x27;preprocessing&#x27;,\n",
       "                 ColumnTransformer(transformers=[(&#x27;one-hot&#x27;, OneHotEncoder(),\n",
       "                                                  [&#x27;Education&#x27;,\n",
       "                                                   &#x27;Marital_Status&#x27;, &#x27;AgeGroup&#x27;,\n",
       "                                                   &#x27;HasChildren&#x27;,\n",
       "                                                   &#x27;HasAcceptedCmp&#x27;,\n",
       "                                                   &#x27;AcceptedCmp1&#x27;,\n",
       "                                                   &#x27;AcceptedCmp2&#x27;,\n",
       "                                                   &#x27;AcceptedCmp3&#x27;,\n",
       "                                                   &#x27;AcceptedCmp4&#x27;,\n",
       "                                                   &#x27;AcceptedCmp5&#x27;, &#x27;Complain&#x27;,\n",
       "                                                   &#x27;Kidhome&#x27;, &#x27;Teenhome&#x27;,\n",
       "                                                   &#x27;YearsSinceEnrolled&#x27;,\n",
       "                                                   &#x27;Children&#x27;,\n",
       "                                                   &#x27;AcceptedCmpTotal&#x27;,\n",
       "                                                   &#x27;cluster&#x27;]),\n",
       "                                                 (&#x27;standard&#x27;, Stan...\n",
       "                                                   &#x27;MntMeatProducts&#x27;,\n",
       "                                                   &#x27;MntFishProducts&#x27;,\n",
       "                                                   &#x27;MntSweetProducts&#x27;,\n",
       "                                                   &#x27;MntGoldProds&#x27;,\n",
       "                                                   &#x27;NumDealsPurchases&#x27;,\n",
       "                                                   &#x27;NumWebPurchases&#x27;,\n",
       "                                                   &#x27;NumCatalogPurchases&#x27;,\n",
       "                                                   &#x27;NumStorePurchases&#x27;,\n",
       "                                                   &#x27;NumWebVisitsMonth&#x27;,\n",
       "                                                   &#x27;MntTotal&#x27;,\n",
       "                                                   &#x27;MntRegularProds&#x27;,\n",
       "                                                   &#x27;NumTotalPurchases&#x27;])])),\n",
       "                (&#x27;feature_selection&#x27;, SelectKBest()),\n",
       "                (&#x27;rus&#x27;, RandomUnderSampler(random_state=42)),\n",
       "                (&#x27;model&#x27;, LogisticRegression(random_state=42))])</pre></div></div></div><div class=\"sk-serial\"><div class=\"sk-item\"><div class=\"sk-serial\"><div class=\"sk-item sk-dashed-wrapped\"><div class=\"sk-label-container\"><div class=\"sk-label sk-toggleable\"><input class=\"sk-toggleable__control sk-hidden--visually\" id=\"sk-estimator-id-30\" type=\"checkbox\" ><label for=\"sk-estimator-id-30\" class=\"sk-toggleable__label sk-toggleable__label-arrow\">preprocessing: ColumnTransformer</label><div class=\"sk-toggleable__content\"><pre>ColumnTransformer(transformers=[(&#x27;one-hot&#x27;, OneHotEncoder(),\n",
       "                                 [&#x27;Education&#x27;, &#x27;Marital_Status&#x27;, &#x27;AgeGroup&#x27;,\n",
       "                                  &#x27;HasChildren&#x27;, &#x27;HasAcceptedCmp&#x27;,\n",
       "                                  &#x27;AcceptedCmp1&#x27;, &#x27;AcceptedCmp2&#x27;,\n",
       "                                  &#x27;AcceptedCmp3&#x27;, &#x27;AcceptedCmp4&#x27;,\n",
       "                                  &#x27;AcceptedCmp5&#x27;, &#x27;Complain&#x27;, &#x27;Kidhome&#x27;,\n",
       "                                  &#x27;Teenhome&#x27;, &#x27;YearsSinceEnrolled&#x27;, &#x27;Children&#x27;,\n",
       "                                  &#x27;AcceptedCmpTotal&#x27;, &#x27;cluster&#x27;]),\n",
       "                                (&#x27;standard&#x27;, StandardScaler(),\n",
       "                                 [&#x27;Income&#x27;, &#x27;Age&#x27;]),\n",
       "                                (&#x27;minmax&#x27;, MinMaxScaler(),\n",
       "                                 [&#x27;Recency&#x27;, &#x27;DaysSinceEnrolled&#x27;]),\n",
       "                                (&#x27;power&#x27;, PowerTransformer(),\n",
       "                                 [&#x27;MntWines&#x27;, &#x27;MntFruits&#x27;, &#x27;MntMeatProducts&#x27;,\n",
       "                                  &#x27;MntFishProducts&#x27;, &#x27;MntSweetProducts&#x27;,\n",
       "                                  &#x27;MntGoldProds&#x27;, &#x27;NumDealsPurchases&#x27;,\n",
       "                                  &#x27;NumWebPurchases&#x27;, &#x27;NumCatalogPurchases&#x27;,\n",
       "                                  &#x27;NumStorePurchases&#x27;, &#x27;NumWebVisitsMonth&#x27;,\n",
       "                                  &#x27;MntTotal&#x27;, &#x27;MntRegularProds&#x27;,\n",
       "                                  &#x27;NumTotalPurchases&#x27;])])</pre></div></div></div><div class=\"sk-parallel\"><div class=\"sk-parallel-item\"><div class=\"sk-item\"><div class=\"sk-label-container\"><div class=\"sk-label sk-toggleable\"><input class=\"sk-toggleable__control sk-hidden--visually\" id=\"sk-estimator-id-31\" type=\"checkbox\" ><label for=\"sk-estimator-id-31\" class=\"sk-toggleable__label sk-toggleable__label-arrow\">one-hot</label><div class=\"sk-toggleable__content\"><pre>[&#x27;Education&#x27;, &#x27;Marital_Status&#x27;, &#x27;AgeGroup&#x27;, &#x27;HasChildren&#x27;, &#x27;HasAcceptedCmp&#x27;, &#x27;AcceptedCmp1&#x27;, &#x27;AcceptedCmp2&#x27;, &#x27;AcceptedCmp3&#x27;, &#x27;AcceptedCmp4&#x27;, &#x27;AcceptedCmp5&#x27;, &#x27;Complain&#x27;, &#x27;Kidhome&#x27;, &#x27;Teenhome&#x27;, &#x27;YearsSinceEnrolled&#x27;, &#x27;Children&#x27;, &#x27;AcceptedCmpTotal&#x27;, &#x27;cluster&#x27;]</pre></div></div></div><div class=\"sk-serial\"><div class=\"sk-item\"><div class=\"sk-estimator sk-toggleable\"><input class=\"sk-toggleable__control sk-hidden--visually\" id=\"sk-estimator-id-32\" type=\"checkbox\" ><label for=\"sk-estimator-id-32\" class=\"sk-toggleable__label sk-toggleable__label-arrow\">OneHotEncoder</label><div class=\"sk-toggleable__content\"><pre>OneHotEncoder()</pre></div></div></div></div></div></div><div class=\"sk-parallel-item\"><div class=\"sk-item\"><div class=\"sk-label-container\"><div class=\"sk-label sk-toggleable\"><input class=\"sk-toggleable__control sk-hidden--visually\" id=\"sk-estimator-id-33\" type=\"checkbox\" ><label for=\"sk-estimator-id-33\" class=\"sk-toggleable__label sk-toggleable__label-arrow\">standard</label><div class=\"sk-toggleable__content\"><pre>[&#x27;Income&#x27;, &#x27;Age&#x27;]</pre></div></div></div><div class=\"sk-serial\"><div class=\"sk-item\"><div class=\"sk-estimator sk-toggleable\"><input class=\"sk-toggleable__control sk-hidden--visually\" id=\"sk-estimator-id-34\" type=\"checkbox\" ><label for=\"sk-estimator-id-34\" class=\"sk-toggleable__label sk-toggleable__label-arrow\">StandardScaler</label><div class=\"sk-toggleable__content\"><pre>StandardScaler()</pre></div></div></div></div></div></div><div class=\"sk-parallel-item\"><div class=\"sk-item\"><div class=\"sk-label-container\"><div class=\"sk-label sk-toggleable\"><input class=\"sk-toggleable__control sk-hidden--visually\" id=\"sk-estimator-id-35\" type=\"checkbox\" ><label for=\"sk-estimator-id-35\" class=\"sk-toggleable__label sk-toggleable__label-arrow\">minmax</label><div class=\"sk-toggleable__content\"><pre>[&#x27;Recency&#x27;, &#x27;DaysSinceEnrolled&#x27;]</pre></div></div></div><div class=\"sk-serial\"><div class=\"sk-item\"><div class=\"sk-estimator sk-toggleable\"><input class=\"sk-toggleable__control sk-hidden--visually\" id=\"sk-estimator-id-36\" type=\"checkbox\" ><label for=\"sk-estimator-id-36\" class=\"sk-toggleable__label sk-toggleable__label-arrow\">MinMaxScaler</label><div class=\"sk-toggleable__content\"><pre>MinMaxScaler()</pre></div></div></div></div></div></div><div class=\"sk-parallel-item\"><div class=\"sk-item\"><div class=\"sk-label-container\"><div class=\"sk-label sk-toggleable\"><input class=\"sk-toggleable__control sk-hidden--visually\" id=\"sk-estimator-id-37\" type=\"checkbox\" ><label for=\"sk-estimator-id-37\" class=\"sk-toggleable__label sk-toggleable__label-arrow\">power</label><div class=\"sk-toggleable__content\"><pre>[&#x27;MntWines&#x27;, &#x27;MntFruits&#x27;, &#x27;MntMeatProducts&#x27;, &#x27;MntFishProducts&#x27;, &#x27;MntSweetProducts&#x27;, &#x27;MntGoldProds&#x27;, &#x27;NumDealsPurchases&#x27;, &#x27;NumWebPurchases&#x27;, &#x27;NumCatalogPurchases&#x27;, &#x27;NumStorePurchases&#x27;, &#x27;NumWebVisitsMonth&#x27;, &#x27;MntTotal&#x27;, &#x27;MntRegularProds&#x27;, &#x27;NumTotalPurchases&#x27;]</pre></div></div></div><div class=\"sk-serial\"><div class=\"sk-item\"><div class=\"sk-estimator sk-toggleable\"><input class=\"sk-toggleable__control sk-hidden--visually\" id=\"sk-estimator-id-38\" type=\"checkbox\" ><label for=\"sk-estimator-id-38\" class=\"sk-toggleable__label sk-toggleable__label-arrow\">PowerTransformer</label><div class=\"sk-toggleable__content\"><pre>PowerTransformer()</pre></div></div></div></div></div></div></div></div><div class=\"sk-item\"><div class=\"sk-estimator sk-toggleable\"><input class=\"sk-toggleable__control sk-hidden--visually\" id=\"sk-estimator-id-39\" type=\"checkbox\" ><label for=\"sk-estimator-id-39\" class=\"sk-toggleable__label sk-toggleable__label-arrow\">SelectKBest</label><div class=\"sk-toggleable__content\"><pre>SelectKBest()</pre></div></div></div><div class=\"sk-item\"><div class=\"sk-estimator sk-toggleable\"><input class=\"sk-toggleable__control sk-hidden--visually\" id=\"sk-estimator-id-40\" type=\"checkbox\" ><label for=\"sk-estimator-id-40\" class=\"sk-toggleable__label sk-toggleable__label-arrow\">RandomUnderSampler</label><div class=\"sk-toggleable__content\"><pre>RandomUnderSampler(random_state=42)</pre></div></div></div><div class=\"sk-item\"><div class=\"sk-estimator sk-toggleable\"><input class=\"sk-toggleable__control sk-hidden--visually\" id=\"sk-estimator-id-41\" type=\"checkbox\" ><label for=\"sk-estimator-id-41\" class=\"sk-toggleable__label sk-toggleable__label-arrow\">LogisticRegression</label><div class=\"sk-toggleable__content\"><pre>LogisticRegression(random_state=42)</pre></div></div></div></div></div></div></div></div></div></div></div></div>"
      ],
      "text/plain": [
       "GridSearchCV(estimator=Pipeline(steps=[('preprocessing',\n",
       "                                        ColumnTransformer(transformers=[('one-hot',\n",
       "                                                                         OneHotEncoder(),\n",
       "                                                                         ['Education',\n",
       "                                                                          'Marital_Status',\n",
       "                                                                          'AgeGroup',\n",
       "                                                                          'HasChildren',\n",
       "                                                                          'HasAcceptedCmp',\n",
       "                                                                          'AcceptedCmp1',\n",
       "                                                                          'AcceptedCmp2',\n",
       "                                                                          'AcceptedCmp3',\n",
       "                                                                          'AcceptedCmp4',\n",
       "                                                                          'AcceptedCmp5',\n",
       "                                                                          'Complain',\n",
       "                                                                          'Kidhome',\n",
       "                                                                          'Teenhome',\n",
       "                                                                          'YearsSinceEnrolled',\n",
       "                                                                          'Children',\n",
       "                                                                          'AcceptedCmpTotal',\n",
       "                                                                          'clus...\n",
       "                                        RandomUnderSampler(random_state=42)),\n",
       "                                       ('model',\n",
       "                                        LogisticRegression(random_state=42))]),\n",
       "             n_jobs=-1,\n",
       "             param_grid={'feature_selection__k': [10, 15, 20, 25],\n",
       "                         'model__C': array([1.e-03, 1.e-02, 1.e-01, 1.e+00, 1.e+01, 1.e+02, 1.e+03]),\n",
       "                         'model__penalty': ['l1', 'l2', 'elasticnet', 'none'],\n",
       "                         'model__solver': ['liblinear', 'lbfgs', 'saga']},\n",
       "             refit='average_precision',\n",
       "             scoring=['roc_auc', 'average_precision', 'accuracy'])"
      ]
     },
     "execution_count": 17,
     "metadata": {},
     "output_type": "execute_result"
    }
   ],
   "source": [
    "grid_search.fit(X, y)"
   ]
  },
  {
   "cell_type": "markdown",
   "id": "5ca23c71-86c1-44bc-b85a-620573fbb3ce",
   "metadata": {},
   "source": [
    "**ALUNOS**: Explicar a estrutura do objeto `grid_search`. E mostrar como obter os resultados."
   ]
  },
  {
   "cell_type": "code",
   "execution_count": 18,
   "id": "a9c6fd7c-4022-4a0a-9299-c91ca57f91bd",
   "metadata": {},
   "outputs": [
    {
     "data": {
      "text/plain": [
       "{'feature_selection__k': 25,\n",
       " 'model__C': 10.0,\n",
       " 'model__penalty': 'l2',\n",
       " 'model__solver': 'liblinear'}"
      ]
     },
     "execution_count": 18,
     "metadata": {},
     "output_type": "execute_result"
    }
   ],
   "source": [
    "grid_search.best_params_"
   ]
  },
  {
   "cell_type": "code",
   "execution_count": 19,
   "id": "3dbfe384-a42d-4eba-97d2-e6c60d149ef1",
   "metadata": {},
   "outputs": [
    {
     "data": {
      "text/plain": [
       "0.5857418098239213"
      ]
     },
     "execution_count": 19,
     "metadata": {},
     "output_type": "execute_result"
    }
   ],
   "source": [
    "grid_search.best_score_"
   ]
  },
  {
   "cell_type": "code",
   "execution_count": 20,
   "id": "3e24db84-427e-412e-b2b0-27696cdc5e26",
   "metadata": {},
   "outputs": [
    {
     "name": "stdout",
     "output_type": "stream",
     "text": [
      "mean_fit_time\n",
      "std_fit_time\n",
      "mean_score_time\n",
      "std_score_time\n",
      "param_feature_selection__k\n",
      "param_model__C\n",
      "param_model__penalty\n",
      "param_model__solver\n",
      "params\n",
      "split0_test_roc_auc\n",
      "split1_test_roc_auc\n",
      "split2_test_roc_auc\n",
      "split3_test_roc_auc\n",
      "split4_test_roc_auc\n",
      "mean_test_roc_auc\n",
      "std_test_roc_auc\n",
      "rank_test_roc_auc\n",
      "split0_test_average_precision\n",
      "split1_test_average_precision\n",
      "split2_test_average_precision\n",
      "split3_test_average_precision\n",
      "split4_test_average_precision\n",
      "mean_test_average_precision\n",
      "std_test_average_precision\n",
      "rank_test_average_precision\n",
      "split0_test_accuracy\n",
      "split1_test_accuracy\n",
      "split2_test_accuracy\n",
      "split3_test_accuracy\n",
      "split4_test_accuracy\n",
      "mean_test_accuracy\n",
      "std_test_accuracy\n",
      "rank_test_accuracy\n"
     ]
    }
   ],
   "source": [
    "print(*grid_search.cv_results_.keys(), sep=\"\\n\")"
   ]
  },
  {
   "cell_type": "code",
   "execution_count": 21,
   "id": "1a75059f-b757-4ca9-9f0b-c220f48aa685",
   "metadata": {},
   "outputs": [
    {
     "data": {
      "text/plain": [
       "0.5857418098239213"
      ]
     },
     "execution_count": 21,
     "metadata": {},
     "output_type": "execute_result"
    }
   ],
   "source": [
    "np.nanmax(grid_search.cv_results_[\"mean_test_average_precision\"])"
   ]
  },
  {
   "cell_type": "code",
   "execution_count": 22,
   "id": "939e23ea-00d0-4188-9425-40041fafe9b6",
   "metadata": {},
   "outputs": [
    {
     "data": {
      "text/plain": [
       "0.8656658454607532"
      ]
     },
     "execution_count": 22,
     "metadata": {},
     "output_type": "execute_result"
    }
   ],
   "source": [
    "np.nanmax(grid_search.cv_results_[\"mean_test_roc_auc\"])"
   ]
  },
  {
   "cell_type": "code",
   "execution_count": 23,
   "id": "567b1060-e8d4-4088-bf26-9ccb3fca5fd3",
   "metadata": {},
   "outputs": [
    {
     "data": {
      "text/plain": [
       "0.8489795918367348"
      ]
     },
     "execution_count": 23,
     "metadata": {},
     "output_type": "execute_result"
    }
   ],
   "source": [
    "np.nanmax(grid_search.cv_results_[\"mean_test_accuracy\"])"
   ]
  },
  {
   "cell_type": "code",
   "execution_count": 24,
   "id": "13e303da-52a5-468a-8dc9-578336fa83af",
   "metadata": {},
   "outputs": [
    {
     "data": {
      "text/plain": [
       "{'feature_selection__k': 25,\n",
       " 'model__C': 10.0,\n",
       " 'model__penalty': 'l2',\n",
       " 'model__solver': 'liblinear'}"
      ]
     },
     "execution_count": 24,
     "metadata": {},
     "output_type": "execute_result"
    }
   ],
   "source": [
    "grid_search.cv_results_[\"params\"][np.nanargmax(grid_search.cv_results_[\"mean_test_average_precision\"])]"
   ]
  },
  {
   "cell_type": "code",
   "execution_count": 25,
   "id": "2bfc161c-2a58-4efd-ba25-d18cf29c43df",
   "metadata": {},
   "outputs": [
    {
     "data": {
      "text/plain": [
       "{'feature_selection__k': 25,\n",
       " 'model__C': 10.0,\n",
       " 'model__penalty': 'l1',\n",
       " 'model__solver': 'liblinear'}"
      ]
     },
     "execution_count": 25,
     "metadata": {},
     "output_type": "execute_result"
    }
   ],
   "source": [
    "grid_search.cv_results_[\"params\"][np.nanargmax(grid_search.cv_results_[\"mean_test_roc_auc\"])]"
   ]
  },
  {
   "cell_type": "code",
   "execution_count": 26,
   "id": "e08cb628-7201-4229-9357-7122f7d0a354",
   "metadata": {},
   "outputs": [
    {
     "data": {
      "text/plain": [
       "{'feature_selection__k': 10,\n",
       " 'model__C': 0.001,\n",
       " 'model__penalty': 'l1',\n",
       " 'model__solver': 'liblinear'}"
      ]
     },
     "execution_count": 26,
     "metadata": {},
     "output_type": "execute_result"
    }
   ],
   "source": [
    "grid_search.cv_results_[\"params\"][np.nanargmax(grid_search.cv_results_[\"mean_test_accuracy\"])]"
   ]
  },
  {
   "cell_type": "code",
   "execution_count": 27,
   "id": "c5c106de-0d9a-4a49-a8ff-7d148c6f1cee",
   "metadata": {},
   "outputs": [
    {
     "data": {
      "text/html": [
       "<div>\n",
       "<style scoped>\n",
       "    .dataframe tbody tr th:only-of-type {\n",
       "        vertical-align: middle;\n",
       "    }\n",
       "\n",
       "    .dataframe tbody tr th {\n",
       "        vertical-align: top;\n",
       "    }\n",
       "\n",
       "    .dataframe thead th {\n",
       "        text-align: right;\n",
       "    }\n",
       "</style>\n",
       "<table border=\"1\" class=\"dataframe\">\n",
       "  <thead>\n",
       "    <tr style=\"text-align: right;\">\n",
       "      <th></th>\n",
       "      <th>auprc</th>\n",
       "      <th>auroc</th>\n",
       "      <th>accuracy</th>\n",
       "    </tr>\n",
       "  </thead>\n",
       "  <tbody>\n",
       "    <tr>\n",
       "      <th>0</th>\n",
       "      <td>0.151020</td>\n",
       "      <td>0.500000</td>\n",
       "      <td>0.848980</td>\n",
       "    </tr>\n",
       "    <tr>\n",
       "      <th>1</th>\n",
       "      <td>NaN</td>\n",
       "      <td>NaN</td>\n",
       "      <td>NaN</td>\n",
       "    </tr>\n",
       "    <tr>\n",
       "      <th>2</th>\n",
       "      <td>0.151020</td>\n",
       "      <td>0.500000</td>\n",
       "      <td>0.848980</td>\n",
       "    </tr>\n",
       "    <tr>\n",
       "      <th>3</th>\n",
       "      <td>0.403915</td>\n",
       "      <td>0.722988</td>\n",
       "      <td>0.810884</td>\n",
       "    </tr>\n",
       "    <tr>\n",
       "      <th>4</th>\n",
       "      <td>0.403915</td>\n",
       "      <td>0.722988</td>\n",
       "      <td>0.810884</td>\n",
       "    </tr>\n",
       "    <tr>\n",
       "      <th>...</th>\n",
       "      <td>...</td>\n",
       "      <td>...</td>\n",
       "      <td>...</td>\n",
       "    </tr>\n",
       "    <tr>\n",
       "      <th>331</th>\n",
       "      <td>NaN</td>\n",
       "      <td>NaN</td>\n",
       "      <td>NaN</td>\n",
       "    </tr>\n",
       "    <tr>\n",
       "      <th>332</th>\n",
       "      <td>NaN</td>\n",
       "      <td>NaN</td>\n",
       "      <td>NaN</td>\n",
       "    </tr>\n",
       "    <tr>\n",
       "      <th>333</th>\n",
       "      <td>NaN</td>\n",
       "      <td>NaN</td>\n",
       "      <td>NaN</td>\n",
       "    </tr>\n",
       "    <tr>\n",
       "      <th>334</th>\n",
       "      <td>0.580802</td>\n",
       "      <td>0.864971</td>\n",
       "      <td>0.790930</td>\n",
       "    </tr>\n",
       "    <tr>\n",
       "      <th>335</th>\n",
       "      <td>0.585402</td>\n",
       "      <td>0.864787</td>\n",
       "      <td>0.790476</td>\n",
       "    </tr>\n",
       "  </tbody>\n",
       "</table>\n",
       "<p>336 rows × 3 columns</p>\n",
       "</div>"
      ],
      "text/plain": [
       "        auprc     auroc  accuracy\n",
       "0    0.151020  0.500000  0.848980\n",
       "1         NaN       NaN       NaN\n",
       "2    0.151020  0.500000  0.848980\n",
       "3    0.403915  0.722988  0.810884\n",
       "4    0.403915  0.722988  0.810884\n",
       "..        ...       ...       ...\n",
       "331       NaN       NaN       NaN\n",
       "332       NaN       NaN       NaN\n",
       "333       NaN       NaN       NaN\n",
       "334  0.580802  0.864971  0.790930\n",
       "335  0.585402  0.864787  0.790476\n",
       "\n",
       "[336 rows x 3 columns]"
      ]
     },
     "execution_count": 27,
     "metadata": {},
     "output_type": "execute_result"
    }
   ],
   "source": [
    "df_results_gs = pd.DataFrame(\n",
    "    {\n",
    "        \"auprc\": grid_search.cv_results_[\"mean_test_average_precision\"],\n",
    "        \"auroc\": grid_search.cv_results_[\"mean_test_roc_auc\"],\n",
    "        \"accuracy\": grid_search.cv_results_[\"mean_test_accuracy\"],\n",
    "    }\n",
    ")\n",
    "\n",
    "df_results_gs"
   ]
  },
  {
   "cell_type": "code",
   "execution_count": 28,
   "id": "a2c13cd1-10c6-4266-b21c-c931eb8c3cf2",
   "metadata": {},
   "outputs": [
    {
     "data": {
      "text/plain": [
       "<Axes: >"
      ]
     },
     "execution_count": 28,
     "metadata": {},
     "output_type": "execute_result"
    },
    {
     "data": {
      "image/png": "[encoded data removed]",
      "text/plain": [
       "<Figure size 640x480 with 1 Axes>"
      ]
     },
     "metadata": {},
     "output_type": "display_data"
    }
   ],
   "source": [
    "import matplotlib.pyplot as plt\n",
    "import seaborn as sns\n",
    "\n",
    "sns.boxplot(\n",
    "    data=df_results_gs,\n",
    "    showmeans=True\n",
    ")"
   ]
  },
  {
   "cell_type": "code",
   "execution_count": null,
   "id": "7775c230-baf0-4e2d-8713-092235e4767d",
   "metadata": {},
   "outputs": [],
   "source": []
  },
  {
   "cell_type": "code",
   "execution_count": 29,
   "id": "fe9491d7-dfcc-4c05-9680-b381624575e8",
   "metadata": {},
   "outputs": [
    {
     "data": {
      "text/plain": [
       "{'feature_selection__k': 25,\n",
       " 'model__C': 10.0,\n",
       " 'model__penalty': 'l2',\n",
       " 'model__solver': 'liblinear'}"
      ]
     },
     "execution_count": 29,
     "metadata": {},
     "output_type": "execute_result"
    }
   ],
   "source": [
    "grid_search.best_params_"
   ]
  },
  {
   "cell_type": "markdown",
   "id": "bd09997a-8fad-4ac3-b546-f9666af1396f",
   "metadata": {},
   "source": [
    "**ALUNOS**: Explicar que está fazendo o pipeline com os melhores parâmetros."
   ]
  },
  {
   "cell_type": "code",
   "execution_count": 30,
   "id": "d4e7bd9d-6e42-4bd6-b5ca-957c07eb95d5",
   "metadata": {},
   "outputs": [],
   "source": [
    "pipeline_logreg_best = Pipeline(\n",
    "    [\n",
    "        (\"preprocessing\", preprocessing),\n",
    "        (\"feature_selection\", SelectKBest(score_func=f_classif, k=grid_search.best_params_[\"feature_selection__k\"])),\n",
    "        (\"rus\", RandomUnderSampler(random_state=RANDOM_STATE)),\n",
    "        (\"model\", LogisticRegression(\n",
    "            random_state=RANDOM_STATE,\n",
    "            C=grid_search.best_params_[\"model__C\"],\n",
    "            penalty=grid_search.best_params_[\"model__penalty\"],\n",
    "            solver=grid_search.best_params_[\"model__solver\"],\n",
    "        ))\n",
    "    ]\n",
    ")\n",
    "\n",
    "scores = cross_validate(\n",
    "    pipeline_logreg_best,\n",
    "    X,\n",
    "    y,\n",
    "    cv=skf,\n",
    "    scoring=[\"accuracy\", \"precision\", \"recall\", \"roc_auc\", \"average_precision\"],\n",
    "    n_jobs=-1\n",
    ")"
   ]
  },
  {
   "cell_type": "code",
   "execution_count": 31,
   "id": "1b3fa722-65f6-425d-9717-3ece0343254a",
   "metadata": {},
   "outputs": [
    {
     "data": {
      "text/html": [
       "<style>#sk-container-id-4 {color: black;}#sk-container-id-4 pre{padding: 0;}#sk-container-id-4 div.sk-toggleable {background-color: white;}#sk-container-id-4 label.sk-toggleable__label {cursor: pointer;display: block;width: 100%;margin-bottom: 0;padding: 0.3em;box-sizing: border-box;text-align: center;}#sk-container-id-4 label.sk-toggleable__label-arrow:before {content: \"▸\";float: left;margin-right: 0.25em;color: #696969;}#sk-container-id-4 label.sk-toggleable__label-arrow:hover:before {color: black;}#sk-container-id-4 div.sk-estimator:hover label.sk-toggleable__label-arrow:before {color: black;}#sk-container-id-4 div.sk-toggleable__content {max-height: 0;max-width: 0;overflow: hidden;text-align: left;background-color: #f0f8ff;}#sk-container-id-4 div.sk-toggleable__content pre {margin: 0.2em;color: black;border-radius: 0.25em;background-color: #f0f8ff;}#sk-container-id-4 input.sk-toggleable__control:checked~div.sk-toggleable__content {max-height: 200px;max-width: 100%;overflow: auto;}#sk-container-id-4 input.sk-toggleable__control:checked~label.sk-toggleable__label-arrow:before {content: \"▾\";}#sk-container-id-4 div.sk-estimator input.sk-toggleable__control:checked~label.sk-toggleable__label {background-color: #d4ebff;}#sk-container-id-4 div.sk-label input.sk-toggleable__control:checked~label.sk-toggleable__label {background-color: #d4ebff;}#sk-container-id-4 input.sk-hidden--visually {border: 0;clip: rect(1px 1px 1px 1px);clip: rect(1px, 1px, 1px, 1px);height: 1px;margin: -1px;overflow: hidden;padding: 0;position: absolute;width: 1px;}#sk-container-id-4 div.sk-estimator {font-family: monospace;background-color: #f0f8ff;border: 1px dotted black;border-radius: 0.25em;box-sizing: border-box;margin-bottom: 0.5em;}#sk-container-id-4 div.sk-estimator:hover {background-color: #d4ebff;}#sk-container-id-4 div.sk-parallel-item::after {content: \"\";width: 100%;border-bottom: 1px solid gray;flex-grow: 1;}#sk-container-id-4 div.sk-label:hover label.sk-toggleable__label {background-color: #d4ebff;}#sk-container-id-4 div.sk-serial::before {content: \"\";position: absolute;border-left: 1px solid gray;box-sizing: border-box;top: 0;bottom: 0;left: 50%;z-index: 0;}#sk-container-id-4 div.sk-serial {display: flex;flex-direction: column;align-items: center;background-color: white;padding-right: 0.2em;padding-left: 0.2em;position: relative;}#sk-container-id-4 div.sk-item {position: relative;z-index: 1;}#sk-container-id-4 div.sk-parallel {display: flex;align-items: stretch;justify-content: center;background-color: white;position: relative;}#sk-container-id-4 div.sk-item::before, #sk-container-id-4 div.sk-parallel-item::before {content: \"\";position: absolute;border-left: 1px solid gray;box-sizing: border-box;top: 0;bottom: 0;left: 50%;z-index: -1;}#sk-container-id-4 div.sk-parallel-item {display: flex;flex-direction: column;z-index: 1;position: relative;background-color: white;}#sk-container-id-4 div.sk-parallel-item:first-child::after {align-self: flex-end;width: 50%;}#sk-container-id-4 div.sk-parallel-item:last-child::after {align-self: flex-start;width: 50%;}#sk-container-id-4 div.sk-parallel-item:only-child::after {width: 0;}#sk-container-id-4 div.sk-dashed-wrapped {border: 1px dashed gray;margin: 0 0.4em 0.5em 0.4em;box-sizing: border-box;padding-bottom: 0.4em;background-color: white;}#sk-container-id-4 div.sk-label label {font-family: monospace;font-weight: bold;display: inline-block;line-height: 1.2em;}#sk-container-id-4 div.sk-label-container {text-align: center;}#sk-container-id-4 div.sk-container {/* jupyter's `normalize.less` sets `[hidden] { display: none; }` but bootstrap.min.css set `[hidden] { display: none !important; }` so we also need the `!important` here to be able to override the default hidden behavior on the sphinx rendered scikit-learn.org. See: https://github.com/scikit-learn/scikit-learn/issues/21755 */display: inline-block !important;position: relative;}#sk-container-id-4 div.sk-text-repr-fallback {display: none;}</style><div id=\"sk-container-id-4\" class=\"sk-top-container\"><div class=\"sk-text-repr-fallback\"><pre>Pipeline(steps=[(&#x27;preprocessing&#x27;,\n",
       "                 ColumnTransformer(transformers=[(&#x27;one-hot&#x27;, OneHotEncoder(),\n",
       "                                                  [&#x27;Education&#x27;,\n",
       "                                                   &#x27;Marital_Status&#x27;, &#x27;AgeGroup&#x27;,\n",
       "                                                   &#x27;HasChildren&#x27;,\n",
       "                                                   &#x27;HasAcceptedCmp&#x27;,\n",
       "                                                   &#x27;AcceptedCmp1&#x27;,\n",
       "                                                   &#x27;AcceptedCmp2&#x27;,\n",
       "                                                   &#x27;AcceptedCmp3&#x27;,\n",
       "                                                   &#x27;AcceptedCmp4&#x27;,\n",
       "                                                   &#x27;AcceptedCmp5&#x27;, &#x27;Complain&#x27;,\n",
       "                                                   &#x27;Kidhome&#x27;, &#x27;Teenhome&#x27;,\n",
       "                                                   &#x27;YearsSinceEnrolled&#x27;,\n",
       "                                                   &#x27;Children&#x27;,\n",
       "                                                   &#x27;AcceptedCmpTotal&#x27;,\n",
       "                                                   &#x27;cluster&#x27;]),\n",
       "                                                 (&#x27;standard&#x27;, Stan...\n",
       "                                                   &#x27;MntFishProducts&#x27;,\n",
       "                                                   &#x27;MntSweetProducts&#x27;,\n",
       "                                                   &#x27;MntGoldProds&#x27;,\n",
       "                                                   &#x27;NumDealsPurchases&#x27;,\n",
       "                                                   &#x27;NumWebPurchases&#x27;,\n",
       "                                                   &#x27;NumCatalogPurchases&#x27;,\n",
       "                                                   &#x27;NumStorePurchases&#x27;,\n",
       "                                                   &#x27;NumWebVisitsMonth&#x27;,\n",
       "                                                   &#x27;MntTotal&#x27;,\n",
       "                                                   &#x27;MntRegularProds&#x27;,\n",
       "                                                   &#x27;NumTotalPurchases&#x27;])])),\n",
       "                (&#x27;feature_selection&#x27;, SelectKBest(k=25)),\n",
       "                (&#x27;rus&#x27;, RandomUnderSampler(random_state=42)),\n",
       "                (&#x27;model&#x27;,\n",
       "                 LogisticRegression(C=10.0, random_state=42,\n",
       "                                    solver=&#x27;liblinear&#x27;))])</pre><b>In a Jupyter environment, please rerun this cell to show the HTML representation or trust the notebook. <br />On GitHub, the HTML representation is unable to render, please try loading this page with nbviewer.org.</b></div><div class=\"sk-container\" hidden><div class=\"sk-item sk-dashed-wrapped\"><div class=\"sk-label-container\"><div class=\"sk-label sk-toggleable\"><input class=\"sk-toggleable__control sk-hidden--visually\" id=\"sk-estimator-id-42\" type=\"checkbox\" ><label for=\"sk-estimator-id-42\" class=\"sk-toggleable__label sk-toggleable__label-arrow\">Pipeline</label><div class=\"sk-toggleable__content\"><pre>Pipeline(steps=[(&#x27;preprocessing&#x27;,\n",
       "                 ColumnTransformer(transformers=[(&#x27;one-hot&#x27;, OneHotEncoder(),\n",
       "                                                  [&#x27;Education&#x27;,\n",
       "                                                   &#x27;Marital_Status&#x27;, &#x27;AgeGroup&#x27;,\n",
       "                                                   &#x27;HasChildren&#x27;,\n",
       "                                                   &#x27;HasAcceptedCmp&#x27;,\n",
       "                                                   &#x27;AcceptedCmp1&#x27;,\n",
       "                                                   &#x27;AcceptedCmp2&#x27;,\n",
       "                                                   &#x27;AcceptedCmp3&#x27;,\n",
       "                                                   &#x27;AcceptedCmp4&#x27;,\n",
       "                                                   &#x27;AcceptedCmp5&#x27;, &#x27;Complain&#x27;,\n",
       "                                                   &#x27;Kidhome&#x27;, &#x27;Teenhome&#x27;,\n",
       "                                                   &#x27;YearsSinceEnrolled&#x27;,\n",
       "                                                   &#x27;Children&#x27;,\n",
       "                                                   &#x27;AcceptedCmpTotal&#x27;,\n",
       "                                                   &#x27;cluster&#x27;]),\n",
       "                                                 (&#x27;standard&#x27;, Stan...\n",
       "                                                   &#x27;MntFishProducts&#x27;,\n",
       "                                                   &#x27;MntSweetProducts&#x27;,\n",
       "                                                   &#x27;MntGoldProds&#x27;,\n",
       "                                                   &#x27;NumDealsPurchases&#x27;,\n",
       "                                                   &#x27;NumWebPurchases&#x27;,\n",
       "                                                   &#x27;NumCatalogPurchases&#x27;,\n",
       "                                                   &#x27;NumStorePurchases&#x27;,\n",
       "                                                   &#x27;NumWebVisitsMonth&#x27;,\n",
       "                                                   &#x27;MntTotal&#x27;,\n",
       "                                                   &#x27;MntRegularProds&#x27;,\n",
       "                                                   &#x27;NumTotalPurchases&#x27;])])),\n",
       "                (&#x27;feature_selection&#x27;, SelectKBest(k=25)),\n",
       "                (&#x27;rus&#x27;, RandomUnderSampler(random_state=42)),\n",
       "                (&#x27;model&#x27;,\n",
       "                 LogisticRegression(C=10.0, random_state=42,\n",
       "                                    solver=&#x27;liblinear&#x27;))])</pre></div></div></div><div class=\"sk-serial\"><div class=\"sk-item sk-dashed-wrapped\"><div class=\"sk-label-container\"><div class=\"sk-label sk-toggleable\"><input class=\"sk-toggleable__control sk-hidden--visually\" id=\"sk-estimator-id-43\" type=\"checkbox\" ><label for=\"sk-estimator-id-43\" class=\"sk-toggleable__label sk-toggleable__label-arrow\">preprocessing: ColumnTransformer</label><div class=\"sk-toggleable__content\"><pre>ColumnTransformer(transformers=[(&#x27;one-hot&#x27;, OneHotEncoder(),\n",
       "                                 [&#x27;Education&#x27;, &#x27;Marital_Status&#x27;, &#x27;AgeGroup&#x27;,\n",
       "                                  &#x27;HasChildren&#x27;, &#x27;HasAcceptedCmp&#x27;,\n",
       "                                  &#x27;AcceptedCmp1&#x27;, &#x27;AcceptedCmp2&#x27;,\n",
       "                                  &#x27;AcceptedCmp3&#x27;, &#x27;AcceptedCmp4&#x27;,\n",
       "                                  &#x27;AcceptedCmp5&#x27;, &#x27;Complain&#x27;, &#x27;Kidhome&#x27;,\n",
       "                                  &#x27;Teenhome&#x27;, &#x27;YearsSinceEnrolled&#x27;, &#x27;Children&#x27;,\n",
       "                                  &#x27;AcceptedCmpTotal&#x27;, &#x27;cluster&#x27;]),\n",
       "                                (&#x27;standard&#x27;, StandardScaler(),\n",
       "                                 [&#x27;Income&#x27;, &#x27;Age&#x27;]),\n",
       "                                (&#x27;minmax&#x27;, MinMaxScaler(),\n",
       "                                 [&#x27;Recency&#x27;, &#x27;DaysSinceEnrolled&#x27;]),\n",
       "                                (&#x27;power&#x27;, PowerTransformer(),\n",
       "                                 [&#x27;MntWines&#x27;, &#x27;MntFruits&#x27;, &#x27;MntMeatProducts&#x27;,\n",
       "                                  &#x27;MntFishProducts&#x27;, &#x27;MntSweetProducts&#x27;,\n",
       "                                  &#x27;MntGoldProds&#x27;, &#x27;NumDealsPurchases&#x27;,\n",
       "                                  &#x27;NumWebPurchases&#x27;, &#x27;NumCatalogPurchases&#x27;,\n",
       "                                  &#x27;NumStorePurchases&#x27;, &#x27;NumWebVisitsMonth&#x27;,\n",
       "                                  &#x27;MntTotal&#x27;, &#x27;MntRegularProds&#x27;,\n",
       "                                  &#x27;NumTotalPurchases&#x27;])])</pre></div></div></div><div class=\"sk-parallel\"><div class=\"sk-parallel-item\"><div class=\"sk-item\"><div class=\"sk-label-container\"><div class=\"sk-label sk-toggleable\"><input class=\"sk-toggleable__control sk-hidden--visually\" id=\"sk-estimator-id-44\" type=\"checkbox\" ><label for=\"sk-estimator-id-44\" class=\"sk-toggleable__label sk-toggleable__label-arrow\">one-hot</label><div class=\"sk-toggleable__content\"><pre>[&#x27;Education&#x27;, &#x27;Marital_Status&#x27;, &#x27;AgeGroup&#x27;, &#x27;HasChildren&#x27;, &#x27;HasAcceptedCmp&#x27;, &#x27;AcceptedCmp1&#x27;, &#x27;AcceptedCmp2&#x27;, &#x27;AcceptedCmp3&#x27;, &#x27;AcceptedCmp4&#x27;, &#x27;AcceptedCmp5&#x27;, &#x27;Complain&#x27;, &#x27;Kidhome&#x27;, &#x27;Teenhome&#x27;, &#x27;YearsSinceEnrolled&#x27;, &#x27;Children&#x27;, &#x27;AcceptedCmpTotal&#x27;, &#x27;cluster&#x27;]</pre></div></div></div><div class=\"sk-serial\"><div class=\"sk-item\"><div class=\"sk-estimator sk-toggleable\"><input class=\"sk-toggleable__control sk-hidden--visually\" id=\"sk-estimator-id-45\" type=\"checkbox\" ><label for=\"sk-estimator-id-45\" class=\"sk-toggleable__label sk-toggleable__label-arrow\">OneHotEncoder</label><div class=\"sk-toggleable__content\"><pre>OneHotEncoder()</pre></div></div></div></div></div></div><div class=\"sk-parallel-item\"><div class=\"sk-item\"><div class=\"sk-label-container\"><div class=\"sk-label sk-toggleable\"><input class=\"sk-toggleable__control sk-hidden--visually\" id=\"sk-estimator-id-46\" type=\"checkbox\" ><label for=\"sk-estimator-id-46\" class=\"sk-toggleable__label sk-toggleable__label-arrow\">standard</label><div class=\"sk-toggleable__content\"><pre>[&#x27;Income&#x27;, &#x27;Age&#x27;]</pre></div></div></div><div class=\"sk-serial\"><div class=\"sk-item\"><div class=\"sk-estimator sk-toggleable\"><input class=\"sk-toggleable__control sk-hidden--visually\" id=\"sk-estimator-id-47\" type=\"checkbox\" ><label for=\"sk-estimator-id-47\" class=\"sk-toggleable__label sk-toggleable__label-arrow\">StandardScaler</label><div class=\"sk-toggleable__content\"><pre>StandardScaler()</pre></div></div></div></div></div></div><div class=\"sk-parallel-item\"><div class=\"sk-item\"><div class=\"sk-label-container\"><div class=\"sk-label sk-toggleable\"><input class=\"sk-toggleable__control sk-hidden--visually\" id=\"sk-estimator-id-48\" type=\"checkbox\" ><label for=\"sk-estimator-id-48\" class=\"sk-toggleable__label sk-toggleable__label-arrow\">minmax</label><div class=\"sk-toggleable__content\"><pre>[&#x27;Recency&#x27;, &#x27;DaysSinceEnrolled&#x27;]</pre></div></div></div><div class=\"sk-serial\"><div class=\"sk-item\"><div class=\"sk-estimator sk-toggleable\"><input class=\"sk-toggleable__control sk-hidden--visually\" id=\"sk-estimator-id-49\" type=\"checkbox\" ><label for=\"sk-estimator-id-49\" class=\"sk-toggleable__label sk-toggleable__label-arrow\">MinMaxScaler</label><div class=\"sk-toggleable__content\"><pre>MinMaxScaler()</pre></div></div></div></div></div></div><div class=\"sk-parallel-item\"><div class=\"sk-item\"><div class=\"sk-label-container\"><div class=\"sk-label sk-toggleable\"><input class=\"sk-toggleable__control sk-hidden--visually\" id=\"sk-estimator-id-50\" type=\"checkbox\" ><label for=\"sk-estimator-id-50\" class=\"sk-toggleable__label sk-toggleable__label-arrow\">power</label><div class=\"sk-toggleable__content\"><pre>[&#x27;MntWines&#x27;, &#x27;MntFruits&#x27;, &#x27;MntMeatProducts&#x27;, &#x27;MntFishProducts&#x27;, &#x27;MntSweetProducts&#x27;, &#x27;MntGoldProds&#x27;, &#x27;NumDealsPurchases&#x27;, &#x27;NumWebPurchases&#x27;, &#x27;NumCatalogPurchases&#x27;, &#x27;NumStorePurchases&#x27;, &#x27;NumWebVisitsMonth&#x27;, &#x27;MntTotal&#x27;, &#x27;MntRegularProds&#x27;, &#x27;NumTotalPurchases&#x27;]</pre></div></div></div><div class=\"sk-serial\"><div class=\"sk-item\"><div class=\"sk-estimator sk-toggleable\"><input class=\"sk-toggleable__control sk-hidden--visually\" id=\"sk-estimator-id-51\" type=\"checkbox\" ><label for=\"sk-estimator-id-51\" class=\"sk-toggleable__label sk-toggleable__label-arrow\">PowerTransformer</label><div class=\"sk-toggleable__content\"><pre>PowerTransformer()</pre></div></div></div></div></div></div></div></div><div class=\"sk-item\"><div class=\"sk-estimator sk-toggleable\"><input class=\"sk-toggleable__control sk-hidden--visually\" id=\"sk-estimator-id-52\" type=\"checkbox\" ><label for=\"sk-estimator-id-52\" class=\"sk-toggleable__label sk-toggleable__label-arrow\">SelectKBest</label><div class=\"sk-toggleable__content\"><pre>SelectKBest(k=25)</pre></div></div></div><div class=\"sk-item\"><div class=\"sk-estimator sk-toggleable\"><input class=\"sk-toggleable__control sk-hidden--visually\" id=\"sk-estimator-id-53\" type=\"checkbox\" ><label for=\"sk-estimator-id-53\" class=\"sk-toggleable__label sk-toggleable__label-arrow\">RandomUnderSampler</label><div class=\"sk-toggleable__content\"><pre>RandomUnderSampler(random_state=42)</pre></div></div></div><div class=\"sk-item\"><div class=\"sk-estimator sk-toggleable\"><input class=\"sk-toggleable__control sk-hidden--visually\" id=\"sk-estimator-id-54\" type=\"checkbox\" ><label for=\"sk-estimator-id-54\" class=\"sk-toggleable__label sk-toggleable__label-arrow\">LogisticRegression</label><div class=\"sk-toggleable__content\"><pre>LogisticRegression(C=10.0, random_state=42, solver=&#x27;liblinear&#x27;)</pre></div></div></div></div></div></div></div>"
      ],
      "text/plain": [
       "Pipeline(steps=[('preprocessing',\n",
       "                 ColumnTransformer(transformers=[('one-hot', OneHotEncoder(),\n",
       "                                                  ['Education',\n",
       "                                                   'Marital_Status', 'AgeGroup',\n",
       "                                                   'HasChildren',\n",
       "                                                   'HasAcceptedCmp',\n",
       "                                                   'AcceptedCmp1',\n",
       "                                                   'AcceptedCmp2',\n",
       "                                                   'AcceptedCmp3',\n",
       "                                                   'AcceptedCmp4',\n",
       "                                                   'AcceptedCmp5', 'Complain',\n",
       "                                                   'Kidhome', 'Teenhome',\n",
       "                                                   'YearsSinceEnrolled',\n",
       "                                                   'Children',\n",
       "                                                   'AcceptedCmpTotal',\n",
       "                                                   'cluster']),\n",
       "                                                 ('standard', Stan...\n",
       "                                                   'MntFishProducts',\n",
       "                                                   'MntSweetProducts',\n",
       "                                                   'MntGoldProds',\n",
       "                                                   'NumDealsPurchases',\n",
       "                                                   'NumWebPurchases',\n",
       "                                                   'NumCatalogPurchases',\n",
       "                                                   'NumStorePurchases',\n",
       "                                                   'NumWebVisitsMonth',\n",
       "                                                   'MntTotal',\n",
       "                                                   'MntRegularProds',\n",
       "                                                   'NumTotalPurchases'])])),\n",
       "                ('feature_selection', SelectKBest(k=25)),\n",
       "                ('rus', RandomUnderSampler(random_state=42)),\n",
       "                ('model',\n",
       "                 LogisticRegression(C=10.0, random_state=42,\n",
       "                                    solver='liblinear'))])"
      ]
     },
     "execution_count": 31,
     "metadata": {},
     "output_type": "execute_result"
    }
   ],
   "source": [
    "pipeline_logreg_best"
   ]
  },
  {
   "cell_type": "code",
   "execution_count": 32,
   "id": "241bc8ef-4a3d-40a9-84ea-ef1c2f209a2a",
   "metadata": {},
   "outputs": [
    {
     "data": {
      "text/plain": [
       "{'fit_time': array([0.0546    , 0.06218362, 0.05679774, 0.05690527, 0.06878018]),\n",
       " 'score_time': array([0.02446413, 0.02713394, 0.02438068, 0.02510786, 0.02427626]),\n",
       " 'test_accuracy': array([0.75963719, 0.7755102 , 0.78231293, 0.80498866, 0.75056689]),\n",
       " 'test_precision': array([0.35338346, 0.37096774, 0.384     , 0.41935484, 0.35526316]),\n",
       " 'test_recall': array([0.70149254, 0.68656716, 0.71641791, 0.78787879, 0.81818182]),\n",
       " 'test_roc_auc': array([0.83165057, 0.83167052, 0.84019076, 0.89513131, 0.85387879]),\n",
       " 'test_average_precision': array([0.57120364, 0.56859571, 0.52419412, 0.67153395, 0.56648324])}"
      ]
     },
     "execution_count": 32,
     "metadata": {},
     "output_type": "execute_result"
    }
   ],
   "source": [
    "scores"
   ]
  },
  {
   "cell_type": "code",
   "execution_count": 33,
   "id": "3a6f76ef-9f86-4102-aaf0-599755b8e250",
   "metadata": {},
   "outputs": [
    {
     "data": {
      "text/plain": [
       "{'fit_time': array([0.0546    , 0.06218362, 0.05679774, 0.05690527, 0.06878018]),\n",
       " 'score_time': array([0.02446413, 0.02713394, 0.02438068, 0.02510786, 0.02427626]),\n",
       " 'test_accuracy': array([0.75963719, 0.7755102 , 0.78231293, 0.80498866, 0.75056689]),\n",
       " 'test_precision': array([0.35338346, 0.37096774, 0.384     , 0.41935484, 0.35526316]),\n",
       " 'test_recall': array([0.70149254, 0.68656716, 0.71641791, 0.78787879, 0.81818182]),\n",
       " 'test_roc_auc': array([0.83165057, 0.83167052, 0.84019076, 0.89513131, 0.85387879]),\n",
       " 'test_average_precision': array([0.57120364, 0.56859571, 0.52419412, 0.67153395, 0.56648324]),\n",
       " 'time': array([0.07906413, 0.08931756, 0.08117843, 0.08201313, 0.09305644])}"
      ]
     },
     "execution_count": 33,
     "metadata": {},
     "output_type": "execute_result"
    }
   ],
   "source": [
    "scores[\"time\"] = scores[\"fit_time\"] + scores[\"score_time\"]\n",
    "\n",
    "scores"
   ]
  },
  {
   "cell_type": "code",
   "execution_count": 34,
   "id": "dbeda92d-780e-4a3d-8937-f4165d024c1d",
   "metadata": {},
   "outputs": [
    {
     "data": {
      "text/html": [
       "<div>\n",
       "<style scoped>\n",
       "    .dataframe tbody tr th:only-of-type {\n",
       "        vertical-align: middle;\n",
       "    }\n",
       "\n",
       "    .dataframe tbody tr th {\n",
       "        vertical-align: top;\n",
       "    }\n",
       "\n",
       "    .dataframe thead th {\n",
       "        text-align: right;\n",
       "    }\n",
       "</style>\n",
       "<table border=\"1\" class=\"dataframe\">\n",
       "  <thead>\n",
       "    <tr style=\"text-align: right;\">\n",
       "      <th></th>\n",
       "      <th>fit_time</th>\n",
       "      <th>score_time</th>\n",
       "      <th>test_accuracy</th>\n",
       "      <th>test_precision</th>\n",
       "      <th>test_recall</th>\n",
       "      <th>test_roc_auc</th>\n",
       "      <th>test_average_precision</th>\n",
       "      <th>time</th>\n",
       "    </tr>\n",
       "  </thead>\n",
       "  <tbody>\n",
       "    <tr>\n",
       "      <th>0</th>\n",
       "      <td>0.054600</td>\n",
       "      <td>0.024464</td>\n",
       "      <td>0.759637</td>\n",
       "      <td>0.353383</td>\n",
       "      <td>0.701493</td>\n",
       "      <td>0.831651</td>\n",
       "      <td>0.571204</td>\n",
       "      <td>0.079064</td>\n",
       "    </tr>\n",
       "    <tr>\n",
       "      <th>1</th>\n",
       "      <td>0.062184</td>\n",
       "      <td>0.027134</td>\n",
       "      <td>0.775510</td>\n",
       "      <td>0.370968</td>\n",
       "      <td>0.686567</td>\n",
       "      <td>0.831671</td>\n",
       "      <td>0.568596</td>\n",
       "      <td>0.089318</td>\n",
       "    </tr>\n",
       "    <tr>\n",
       "      <th>2</th>\n",
       "      <td>0.056798</td>\n",
       "      <td>0.024381</td>\n",
       "      <td>0.782313</td>\n",
       "      <td>0.384000</td>\n",
       "      <td>0.716418</td>\n",
       "      <td>0.840191</td>\n",
       "      <td>0.524194</td>\n",
       "      <td>0.081178</td>\n",
       "    </tr>\n",
       "    <tr>\n",
       "      <th>3</th>\n",
       "      <td>0.056905</td>\n",
       "      <td>0.025108</td>\n",
       "      <td>0.804989</td>\n",
       "      <td>0.419355</td>\n",
       "      <td>0.787879</td>\n",
       "      <td>0.895131</td>\n",
       "      <td>0.671534</td>\n",
       "      <td>0.082013</td>\n",
       "    </tr>\n",
       "    <tr>\n",
       "      <th>4</th>\n",
       "      <td>0.068780</td>\n",
       "      <td>0.024276</td>\n",
       "      <td>0.750567</td>\n",
       "      <td>0.355263</td>\n",
       "      <td>0.818182</td>\n",
       "      <td>0.853879</td>\n",
       "      <td>0.566483</td>\n",
       "      <td>0.093056</td>\n",
       "    </tr>\n",
       "  </tbody>\n",
       "</table>\n",
       "</div>"
      ],
      "text/plain": [
       "   fit_time  score_time  test_accuracy  test_precision  test_recall  \\\n",
       "0  0.054600    0.024464       0.759637        0.353383     0.701493   \n",
       "1  0.062184    0.027134       0.775510        0.370968     0.686567   \n",
       "2  0.056798    0.024381       0.782313        0.384000     0.716418   \n",
       "3  0.056905    0.025108       0.804989        0.419355     0.787879   \n",
       "4  0.068780    0.024276       0.750567        0.355263     0.818182   \n",
       "\n",
       "   test_roc_auc  test_average_precision      time  \n",
       "0      0.831651                0.571204  0.079064  \n",
       "1      0.831671                0.568596  0.089318  \n",
       "2      0.840191                0.524194  0.081178  \n",
       "3      0.895131                0.671534  0.082013  \n",
       "4      0.853879                0.566483  0.093056  "
      ]
     },
     "execution_count": 34,
     "metadata": {},
     "output_type": "execute_result"
    }
   ],
   "source": [
    "df_scores_best = pd.DataFrame(scores)\n",
    "df_scores_best"
   ]
  },
  {
   "cell_type": "code",
   "execution_count": 35,
   "id": "e85276d8-fcdb-4bfa-b7fd-b9b3cb4cf1f5",
   "metadata": {},
   "outputs": [
    {
     "data": {
      "image/png": "[encoded data removed]",
      "text/plain": [
       "<Figure size 1200x500 with 6 Axes>"
      ]
     },
     "metadata": {},
     "output_type": "display_data"
    }
   ],
   "source": [
    "fig, axs = plt.subplots(nrows=2, ncols=3, figsize=(12, 5), tight_layout=True)\n",
    "\n",
    "cols = df_scores_best.columns[2:].to_list()\n",
    "\n",
    "for ax, col in zip(axs.flatten(), cols):\n",
    "    b = sns.boxplot(y=col, data=df_scores_best, ax=ax, showmeans=True)\n",
    "\n",
    "plt.show()"
   ]
  },
  {
   "cell_type": "code",
   "execution_count": 36,
   "id": "1f845c9e-3df6-44fe-85e7-b7a04adadfcc",
   "metadata": {},
   "outputs": [
    {
     "data": {
      "text/html": [
       "<style>#sk-container-id-5 {color: black;}#sk-container-id-5 pre{padding: 0;}#sk-container-id-5 div.sk-toggleable {background-color: white;}#sk-container-id-5 label.sk-toggleable__label {cursor: pointer;display: block;width: 100%;margin-bottom: 0;padding: 0.3em;box-sizing: border-box;text-align: center;}#sk-container-id-5 label.sk-toggleable__label-arrow:before {content: \"▸\";float: left;margin-right: 0.25em;color: #696969;}#sk-container-id-5 label.sk-toggleable__label-arrow:hover:before {color: black;}#sk-container-id-5 div.sk-estimator:hover label.sk-toggleable__label-arrow:before {color: black;}#sk-container-id-5 div.sk-toggleable__content {max-height: 0;max-width: 0;overflow: hidden;text-align: left;background-color: #f0f8ff;}#sk-container-id-5 div.sk-toggleable__content pre {margin: 0.2em;color: black;border-radius: 0.25em;background-color: #f0f8ff;}#sk-container-id-5 input.sk-toggleable__control:checked~div.sk-toggleable__content {max-height: 200px;max-width: 100%;overflow: auto;}#sk-container-id-5 input.sk-toggleable__control:checked~label.sk-toggleable__label-arrow:before {content: \"▾\";}#sk-container-id-5 div.sk-estimator input.sk-toggleable__control:checked~label.sk-toggleable__label {background-color: #d4ebff;}#sk-container-id-5 div.sk-label input.sk-toggleable__control:checked~label.sk-toggleable__label {background-color: #d4ebff;}#sk-container-id-5 input.sk-hidden--visually {border: 0;clip: rect(1px 1px 1px 1px);clip: rect(1px, 1px, 1px, 1px);height: 1px;margin: -1px;overflow: hidden;padding: 0;position: absolute;width: 1px;}#sk-container-id-5 div.sk-estimator {font-family: monospace;background-color: #f0f8ff;border: 1px dotted black;border-radius: 0.25em;box-sizing: border-box;margin-bottom: 0.5em;}#sk-container-id-5 div.sk-estimator:hover {background-color: #d4ebff;}#sk-container-id-5 div.sk-parallel-item::after {content: \"\";width: 100%;border-bottom: 1px solid gray;flex-grow: 1;}#sk-container-id-5 div.sk-label:hover label.sk-toggleable__label {background-color: #d4ebff;}#sk-container-id-5 div.sk-serial::before {content: \"\";position: absolute;border-left: 1px solid gray;box-sizing: border-box;top: 0;bottom: 0;left: 50%;z-index: 0;}#sk-container-id-5 div.sk-serial {display: flex;flex-direction: column;align-items: center;background-color: white;padding-right: 0.2em;padding-left: 0.2em;position: relative;}#sk-container-id-5 div.sk-item {position: relative;z-index: 1;}#sk-container-id-5 div.sk-parallel {display: flex;align-items: stretch;justify-content: center;background-color: white;position: relative;}#sk-container-id-5 div.sk-item::before, #sk-container-id-5 div.sk-parallel-item::before {content: \"\";position: absolute;border-left: 1px solid gray;box-sizing: border-box;top: 0;bottom: 0;left: 50%;z-index: -1;}#sk-container-id-5 div.sk-parallel-item {display: flex;flex-direction: column;z-index: 1;position: relative;background-color: white;}#sk-container-id-5 div.sk-parallel-item:first-child::after {align-self: flex-end;width: 50%;}#sk-container-id-5 div.sk-parallel-item:last-child::after {align-self: flex-start;width: 50%;}#sk-container-id-5 div.sk-parallel-item:only-child::after {width: 0;}#sk-container-id-5 div.sk-dashed-wrapped {border: 1px dashed gray;margin: 0 0.4em 0.5em 0.4em;box-sizing: border-box;padding-bottom: 0.4em;background-color: white;}#sk-container-id-5 div.sk-label label {font-family: monospace;font-weight: bold;display: inline-block;line-height: 1.2em;}#sk-container-id-5 div.sk-label-container {text-align: center;}#sk-container-id-5 div.sk-container {/* jupyter's `normalize.less` sets `[hidden] { display: none; }` but bootstrap.min.css set `[hidden] { display: none !important; }` so we also need the `!important` here to be able to override the default hidden behavior on the sphinx rendered scikit-learn.org. See: https://github.com/scikit-learn/scikit-learn/issues/21755 */display: inline-block !important;position: relative;}#sk-container-id-5 div.sk-text-repr-fallback {display: none;}</style><div id=\"sk-container-id-5\" class=\"sk-top-container\"><div class=\"sk-text-repr-fallback\"><pre>Pipeline(steps=[(&#x27;preprocessing&#x27;,\n",
       "                 ColumnTransformer(transformers=[(&#x27;one-hot&#x27;, OneHotEncoder(),\n",
       "                                                  [&#x27;Education&#x27;,\n",
       "                                                   &#x27;Marital_Status&#x27;, &#x27;AgeGroup&#x27;,\n",
       "                                                   &#x27;HasChildren&#x27;,\n",
       "                                                   &#x27;HasAcceptedCmp&#x27;,\n",
       "                                                   &#x27;AcceptedCmp1&#x27;,\n",
       "                                                   &#x27;AcceptedCmp2&#x27;,\n",
       "                                                   &#x27;AcceptedCmp3&#x27;,\n",
       "                                                   &#x27;AcceptedCmp4&#x27;,\n",
       "                                                   &#x27;AcceptedCmp5&#x27;, &#x27;Complain&#x27;,\n",
       "                                                   &#x27;Kidhome&#x27;, &#x27;Teenhome&#x27;,\n",
       "                                                   &#x27;YearsSinceEnrolled&#x27;,\n",
       "                                                   &#x27;Children&#x27;,\n",
       "                                                   &#x27;AcceptedCmpTotal&#x27;,\n",
       "                                                   &#x27;cluster&#x27;]),\n",
       "                                                 (&#x27;standard&#x27;, Stan...\n",
       "                                                   &#x27;MntFishProducts&#x27;,\n",
       "                                                   &#x27;MntSweetProducts&#x27;,\n",
       "                                                   &#x27;MntGoldProds&#x27;,\n",
       "                                                   &#x27;NumDealsPurchases&#x27;,\n",
       "                                                   &#x27;NumWebPurchases&#x27;,\n",
       "                                                   &#x27;NumCatalogPurchases&#x27;,\n",
       "                                                   &#x27;NumStorePurchases&#x27;,\n",
       "                                                   &#x27;NumWebVisitsMonth&#x27;,\n",
       "                                                   &#x27;MntTotal&#x27;,\n",
       "                                                   &#x27;MntRegularProds&#x27;,\n",
       "                                                   &#x27;NumTotalPurchases&#x27;])])),\n",
       "                (&#x27;feature_selection&#x27;, SelectKBest(k=25)),\n",
       "                (&#x27;rus&#x27;, RandomUnderSampler(random_state=42)),\n",
       "                (&#x27;model&#x27;,\n",
       "                 LogisticRegression(C=10.0, random_state=42,\n",
       "                                    solver=&#x27;liblinear&#x27;))])</pre><b>In a Jupyter environment, please rerun this cell to show the HTML representation or trust the notebook. <br />On GitHub, the HTML representation is unable to render, please try loading this page with nbviewer.org.</b></div><div class=\"sk-container\" hidden><div class=\"sk-item sk-dashed-wrapped\"><div class=\"sk-label-container\"><div class=\"sk-label sk-toggleable\"><input class=\"sk-toggleable__control sk-hidden--visually\" id=\"sk-estimator-id-55\" type=\"checkbox\" ><label for=\"sk-estimator-id-55\" class=\"sk-toggleable__label sk-toggleable__label-arrow\">Pipeline</label><div class=\"sk-toggleable__content\"><pre>Pipeline(steps=[(&#x27;preprocessing&#x27;,\n",
       "                 ColumnTransformer(transformers=[(&#x27;one-hot&#x27;, OneHotEncoder(),\n",
       "                                                  [&#x27;Education&#x27;,\n",
       "                                                   &#x27;Marital_Status&#x27;, &#x27;AgeGroup&#x27;,\n",
       "                                                   &#x27;HasChildren&#x27;,\n",
       "                                                   &#x27;HasAcceptedCmp&#x27;,\n",
       "                                                   &#x27;AcceptedCmp1&#x27;,\n",
       "                                                   &#x27;AcceptedCmp2&#x27;,\n",
       "                                                   &#x27;AcceptedCmp3&#x27;,\n",
       "                                                   &#x27;AcceptedCmp4&#x27;,\n",
       "                                                   &#x27;AcceptedCmp5&#x27;, &#x27;Complain&#x27;,\n",
       "                                                   &#x27;Kidhome&#x27;, &#x27;Teenhome&#x27;,\n",
       "                                                   &#x27;YearsSinceEnrolled&#x27;,\n",
       "                                                   &#x27;Children&#x27;,\n",
       "                                                   &#x27;AcceptedCmpTotal&#x27;,\n",
       "                                                   &#x27;cluster&#x27;]),\n",
       "                                                 (&#x27;standard&#x27;, Stan...\n",
       "                                                   &#x27;MntFishProducts&#x27;,\n",
       "                                                   &#x27;MntSweetProducts&#x27;,\n",
       "                                                   &#x27;MntGoldProds&#x27;,\n",
       "                                                   &#x27;NumDealsPurchases&#x27;,\n",
       "                                                   &#x27;NumWebPurchases&#x27;,\n",
       "                                                   &#x27;NumCatalogPurchases&#x27;,\n",
       "                                                   &#x27;NumStorePurchases&#x27;,\n",
       "                                                   &#x27;NumWebVisitsMonth&#x27;,\n",
       "                                                   &#x27;MntTotal&#x27;,\n",
       "                                                   &#x27;MntRegularProds&#x27;,\n",
       "                                                   &#x27;NumTotalPurchases&#x27;])])),\n",
       "                (&#x27;feature_selection&#x27;, SelectKBest(k=25)),\n",
       "                (&#x27;rus&#x27;, RandomUnderSampler(random_state=42)),\n",
       "                (&#x27;model&#x27;,\n",
       "                 LogisticRegression(C=10.0, random_state=42,\n",
       "                                    solver=&#x27;liblinear&#x27;))])</pre></div></div></div><div class=\"sk-serial\"><div class=\"sk-item sk-dashed-wrapped\"><div class=\"sk-label-container\"><div class=\"sk-label sk-toggleable\"><input class=\"sk-toggleable__control sk-hidden--visually\" id=\"sk-estimator-id-56\" type=\"checkbox\" ><label for=\"sk-estimator-id-56\" class=\"sk-toggleable__label sk-toggleable__label-arrow\">preprocessing: ColumnTransformer</label><div class=\"sk-toggleable__content\"><pre>ColumnTransformer(transformers=[(&#x27;one-hot&#x27;, OneHotEncoder(),\n",
       "                                 [&#x27;Education&#x27;, &#x27;Marital_Status&#x27;, &#x27;AgeGroup&#x27;,\n",
       "                                  &#x27;HasChildren&#x27;, &#x27;HasAcceptedCmp&#x27;,\n",
       "                                  &#x27;AcceptedCmp1&#x27;, &#x27;AcceptedCmp2&#x27;,\n",
       "                                  &#x27;AcceptedCmp3&#x27;, &#x27;AcceptedCmp4&#x27;,\n",
       "                                  &#x27;AcceptedCmp5&#x27;, &#x27;Complain&#x27;, &#x27;Kidhome&#x27;,\n",
       "                                  &#x27;Teenhome&#x27;, &#x27;YearsSinceEnrolled&#x27;, &#x27;Children&#x27;,\n",
       "                                  &#x27;AcceptedCmpTotal&#x27;, &#x27;cluster&#x27;]),\n",
       "                                (&#x27;standard&#x27;, StandardScaler(),\n",
       "                                 [&#x27;Income&#x27;, &#x27;Age&#x27;]),\n",
       "                                (&#x27;minmax&#x27;, MinMaxScaler(),\n",
       "                                 [&#x27;Recency&#x27;, &#x27;DaysSinceEnrolled&#x27;]),\n",
       "                                (&#x27;power&#x27;, PowerTransformer(),\n",
       "                                 [&#x27;MntWines&#x27;, &#x27;MntFruits&#x27;, &#x27;MntMeatProducts&#x27;,\n",
       "                                  &#x27;MntFishProducts&#x27;, &#x27;MntSweetProducts&#x27;,\n",
       "                                  &#x27;MntGoldProds&#x27;, &#x27;NumDealsPurchases&#x27;,\n",
       "                                  &#x27;NumWebPurchases&#x27;, &#x27;NumCatalogPurchases&#x27;,\n",
       "                                  &#x27;NumStorePurchases&#x27;, &#x27;NumWebVisitsMonth&#x27;,\n",
       "                                  &#x27;MntTotal&#x27;, &#x27;MntRegularProds&#x27;,\n",
       "                                  &#x27;NumTotalPurchases&#x27;])])</pre></div></div></div><div class=\"sk-parallel\"><div class=\"sk-parallel-item\"><div class=\"sk-item\"><div class=\"sk-label-container\"><div class=\"sk-label sk-toggleable\"><input class=\"sk-toggleable__control sk-hidden--visually\" id=\"sk-estimator-id-57\" type=\"checkbox\" ><label for=\"sk-estimator-id-57\" class=\"sk-toggleable__label sk-toggleable__label-arrow\">one-hot</label><div class=\"sk-toggleable__content\"><pre>[&#x27;Education&#x27;, &#x27;Marital_Status&#x27;, &#x27;AgeGroup&#x27;, &#x27;HasChildren&#x27;, &#x27;HasAcceptedCmp&#x27;, &#x27;AcceptedCmp1&#x27;, &#x27;AcceptedCmp2&#x27;, &#x27;AcceptedCmp3&#x27;, &#x27;AcceptedCmp4&#x27;, &#x27;AcceptedCmp5&#x27;, &#x27;Complain&#x27;, &#x27;Kidhome&#x27;, &#x27;Teenhome&#x27;, &#x27;YearsSinceEnrolled&#x27;, &#x27;Children&#x27;, &#x27;AcceptedCmpTotal&#x27;, &#x27;cluster&#x27;]</pre></div></div></div><div class=\"sk-serial\"><div class=\"sk-item\"><div class=\"sk-estimator sk-toggleable\"><input class=\"sk-toggleable__control sk-hidden--visually\" id=\"sk-estimator-id-58\" type=\"checkbox\" ><label for=\"sk-estimator-id-58\" class=\"sk-toggleable__label sk-toggleable__label-arrow\">OneHotEncoder</label><div class=\"sk-toggleable__content\"><pre>OneHotEncoder()</pre></div></div></div></div></div></div><div class=\"sk-parallel-item\"><div class=\"sk-item\"><div class=\"sk-label-container\"><div class=\"sk-label sk-toggleable\"><input class=\"sk-toggleable__control sk-hidden--visually\" id=\"sk-estimator-id-59\" type=\"checkbox\" ><label for=\"sk-estimator-id-59\" class=\"sk-toggleable__label sk-toggleable__label-arrow\">standard</label><div class=\"sk-toggleable__content\"><pre>[&#x27;Income&#x27;, &#x27;Age&#x27;]</pre></div></div></div><div class=\"sk-serial\"><div class=\"sk-item\"><div class=\"sk-estimator sk-toggleable\"><input class=\"sk-toggleable__control sk-hidden--visually\" id=\"sk-estimator-id-60\" type=\"checkbox\" ><label for=\"sk-estimator-id-60\" class=\"sk-toggleable__label sk-toggleable__label-arrow\">StandardScaler</label><div class=\"sk-toggleable__content\"><pre>StandardScaler()</pre></div></div></div></div></div></div><div class=\"sk-parallel-item\"><div class=\"sk-item\"><div class=\"sk-label-container\"><div class=\"sk-label sk-toggleable\"><input class=\"sk-toggleable__control sk-hidden--visually\" id=\"sk-estimator-id-61\" type=\"checkbox\" ><label for=\"sk-estimator-id-61\" class=\"sk-toggleable__label sk-toggleable__label-arrow\">minmax</label><div class=\"sk-toggleable__content\"><pre>[&#x27;Recency&#x27;, &#x27;DaysSinceEnrolled&#x27;]</pre></div></div></div><div class=\"sk-serial\"><div class=\"sk-item\"><div class=\"sk-estimator sk-toggleable\"><input class=\"sk-toggleable__control sk-hidden--visually\" id=\"sk-estimator-id-62\" type=\"checkbox\" ><label for=\"sk-estimator-id-62\" class=\"sk-toggleable__label sk-toggleable__label-arrow\">MinMaxScaler</label><div class=\"sk-toggleable__content\"><pre>MinMaxScaler()</pre></div></div></div></div></div></div><div class=\"sk-parallel-item\"><div class=\"sk-item\"><div class=\"sk-label-container\"><div class=\"sk-label sk-toggleable\"><input class=\"sk-toggleable__control sk-hidden--visually\" id=\"sk-estimator-id-63\" type=\"checkbox\" ><label for=\"sk-estimator-id-63\" class=\"sk-toggleable__label sk-toggleable__label-arrow\">power</label><div class=\"sk-toggleable__content\"><pre>[&#x27;MntWines&#x27;, &#x27;MntFruits&#x27;, &#x27;MntMeatProducts&#x27;, &#x27;MntFishProducts&#x27;, &#x27;MntSweetProducts&#x27;, &#x27;MntGoldProds&#x27;, &#x27;NumDealsPurchases&#x27;, &#x27;NumWebPurchases&#x27;, &#x27;NumCatalogPurchases&#x27;, &#x27;NumStorePurchases&#x27;, &#x27;NumWebVisitsMonth&#x27;, &#x27;MntTotal&#x27;, &#x27;MntRegularProds&#x27;, &#x27;NumTotalPurchases&#x27;]</pre></div></div></div><div class=\"sk-serial\"><div class=\"sk-item\"><div class=\"sk-estimator sk-toggleable\"><input class=\"sk-toggleable__control sk-hidden--visually\" id=\"sk-estimator-id-64\" type=\"checkbox\" ><label for=\"sk-estimator-id-64\" class=\"sk-toggleable__label sk-toggleable__label-arrow\">PowerTransformer</label><div class=\"sk-toggleable__content\"><pre>PowerTransformer()</pre></div></div></div></div></div></div></div></div><div class=\"sk-item\"><div class=\"sk-estimator sk-toggleable\"><input class=\"sk-toggleable__control sk-hidden--visually\" id=\"sk-estimator-id-65\" type=\"checkbox\" ><label for=\"sk-estimator-id-65\" class=\"sk-toggleable__label sk-toggleable__label-arrow\">SelectKBest</label><div class=\"sk-toggleable__content\"><pre>SelectKBest(k=25)</pre></div></div></div><div class=\"sk-item\"><div class=\"sk-estimator sk-toggleable\"><input class=\"sk-toggleable__control sk-hidden--visually\" id=\"sk-estimator-id-66\" type=\"checkbox\" ><label for=\"sk-estimator-id-66\" class=\"sk-toggleable__label sk-toggleable__label-arrow\">RandomUnderSampler</label><div class=\"sk-toggleable__content\"><pre>RandomUnderSampler(random_state=42)</pre></div></div></div><div class=\"sk-item\"><div class=\"sk-estimator sk-toggleable\"><input class=\"sk-toggleable__control sk-hidden--visually\" id=\"sk-estimator-id-67\" type=\"checkbox\" ><label for=\"sk-estimator-id-67\" class=\"sk-toggleable__label sk-toggleable__label-arrow\">LogisticRegression</label><div class=\"sk-toggleable__content\"><pre>LogisticRegression(C=10.0, random_state=42, solver=&#x27;liblinear&#x27;)</pre></div></div></div></div></div></div></div>"
      ],
      "text/plain": [
       "Pipeline(steps=[('preprocessing',\n",
       "                 ColumnTransformer(transformers=[('one-hot', OneHotEncoder(),\n",
       "                                                  ['Education',\n",
       "                                                   'Marital_Status', 'AgeGroup',\n",
       "                                                   'HasChildren',\n",
       "                                                   'HasAcceptedCmp',\n",
       "                                                   'AcceptedCmp1',\n",
       "                                                   'AcceptedCmp2',\n",
       "                                                   'AcceptedCmp3',\n",
       "                                                   'AcceptedCmp4',\n",
       "                                                   'AcceptedCmp5', 'Complain',\n",
       "                                                   'Kidhome', 'Teenhome',\n",
       "                                                   'YearsSinceEnrolled',\n",
       "                                                   'Children',\n",
       "                                                   'AcceptedCmpTotal',\n",
       "                                                   'cluster']),\n",
       "                                                 ('standard', Stan...\n",
       "                                                   'MntFishProducts',\n",
       "                                                   'MntSweetProducts',\n",
       "                                                   'MntGoldProds',\n",
       "                                                   'NumDealsPurchases',\n",
       "                                                   'NumWebPurchases',\n",
       "                                                   'NumCatalogPurchases',\n",
       "                                                   'NumStorePurchases',\n",
       "                                                   'NumWebVisitsMonth',\n",
       "                                                   'MntTotal',\n",
       "                                                   'MntRegularProds',\n",
       "                                                   'NumTotalPurchases'])])),\n",
       "                ('feature_selection', SelectKBest(k=25)),\n",
       "                ('rus', RandomUnderSampler(random_state=42)),\n",
       "                ('model',\n",
       "                 LogisticRegression(C=10.0, random_state=42,\n",
       "                                    solver='liblinear'))])"
      ]
     },
     "execution_count": 36,
     "metadata": {},
     "output_type": "execute_result"
    }
   ],
   "source": [
    "pipeline_logreg_best.fit(X, y)"
   ]
  },
  {
   "cell_type": "markdown",
   "id": "466abbd1-446a-4117-b68d-6f38f46510c9",
   "metadata": {},
   "source": [
    "**ALUNOS**: Destacar que efetivamente foram selecionadas 25 features e mostrar suas importâncias."
   ]
  },
  {
   "cell_type": "code",
   "execution_count": 37,
   "id": "20276c74-00c0-470f-8602-dad0e2c1a086",
   "metadata": {},
   "outputs": [
    {
     "data": {
      "text/plain": [
       "array(['one-hot__HasChildren_0', 'one-hot__HasChildren_1',\n",
       "       'one-hot__HasAcceptedCmp_0', 'one-hot__HasAcceptedCmp_1',\n",
       "       'one-hot__AcceptedCmp1_0', 'one-hot__AcceptedCmp1_1',\n",
       "       'one-hot__AcceptedCmp3_0', 'one-hot__AcceptedCmp3_1',\n",
       "       'one-hot__AcceptedCmp4_0', 'one-hot__AcceptedCmp4_1',\n",
       "       'one-hot__AcceptedCmp5_0', 'one-hot__AcceptedCmp5_1',\n",
       "       'one-hot__Children_0', 'one-hot__AcceptedCmpTotal_0',\n",
       "       'one-hot__AcceptedCmpTotal_1', 'one-hot__AcceptedCmpTotal_2',\n",
       "       'one-hot__AcceptedCmpTotal_3', 'one-hot__cluster_0',\n",
       "       'minmax__Recency', 'minmax__DaysSinceEnrolled', 'power__MntWines',\n",
       "       'power__MntMeatProducts', 'power__NumCatalogPurchases',\n",
       "       'power__MntTotal', 'power__MntRegularProds'], dtype=object)"
      ]
     },
     "execution_count": 37,
     "metadata": {},
     "output_type": "execute_result"
    }
   ],
   "source": [
    "names = pipeline_logreg_best[:-1].get_feature_names_out()\n",
    "names"
   ]
  },
  {
   "cell_type": "code",
   "execution_count": 38,
   "id": "c44de582-f633-4b88-9ef7-d880a7877104",
   "metadata": {},
   "outputs": [
    {
     "data": {
      "text/plain": [
       "25"
      ]
     },
     "execution_count": 38,
     "metadata": {},
     "output_type": "execute_result"
    }
   ],
   "source": [
    "len(names)"
   ]
  },
  {
   "cell_type": "code",
   "execution_count": 39,
   "id": "131b57d1-e0a9-4e21-8f8f-d6033df9ea4c",
   "metadata": {},
   "outputs": [
    {
     "data": {
      "text/plain": [
       "array([ 0.38372803,  0.03810185, -0.80733667,  1.22916656, -0.1601319 ,\n",
       "        0.58196178, -0.46594065,  0.88777053,  0.17604569,  0.2457842 ,\n",
       "       -0.14481382,  0.56664371,  0.38372803, -0.80733667, -1.86580335,\n",
       "       -0.98261247, -0.52200396, -0.75675512, -3.02266538,  3.76148746,\n",
       "       -0.44092878,  1.33110151,  0.35340231,  0.6387897 , -1.47770579])"
      ]
     },
     "execution_count": 39,
     "metadata": {},
     "output_type": "execute_result"
    }
   ],
   "source": [
    "importance = pipeline_logreg_best[\"model\"].coef_[0]\n",
    "importance"
   ]
  },
  {
   "cell_type": "code",
   "execution_count": 40,
   "id": "5b542837-e3f5-4658-b5b1-423ad986f5a3",
   "metadata": {},
   "outputs": [
    {
     "data": {
      "text/html": [
       "<div>\n",
       "<style scoped>\n",
       "    .dataframe tbody tr th:only-of-type {\n",
       "        vertical-align: middle;\n",
       "    }\n",
       "\n",
       "    .dataframe tbody tr th {\n",
       "        vertical-align: top;\n",
       "    }\n",
       "\n",
       "    .dataframe thead th {\n",
       "        text-align: right;\n",
       "    }\n",
       "</style>\n",
       "<table border=\"1\" class=\"dataframe\">\n",
       "  <thead>\n",
       "    <tr style=\"text-align: right;\">\n",
       "      <th></th>\n",
       "      <th>name</th>\n",
       "      <th>importance</th>\n",
       "    </tr>\n",
       "  </thead>\n",
       "  <tbody>\n",
       "    <tr>\n",
       "      <th>18</th>\n",
       "      <td>minmax__Recency</td>\n",
       "      <td>-3.022665</td>\n",
       "    </tr>\n",
       "    <tr>\n",
       "      <th>14</th>\n",
       "      <td>one-hot__AcceptedCmpTotal_1</td>\n",
       "      <td>-1.865803</td>\n",
       "    </tr>\n",
       "    <tr>\n",
       "      <th>24</th>\n",
       "      <td>power__MntRegularProds</td>\n",
       "      <td>-1.477706</td>\n",
       "    </tr>\n",
       "    <tr>\n",
       "      <th>15</th>\n",
       "      <td>one-hot__AcceptedCmpTotal_2</td>\n",
       "      <td>-0.982612</td>\n",
       "    </tr>\n",
       "    <tr>\n",
       "      <th>2</th>\n",
       "      <td>one-hot__HasAcceptedCmp_0</td>\n",
       "      <td>-0.807337</td>\n",
       "    </tr>\n",
       "    <tr>\n",
       "      <th>13</th>\n",
       "      <td>one-hot__AcceptedCmpTotal_0</td>\n",
       "      <td>-0.807337</td>\n",
       "    </tr>\n",
       "    <tr>\n",
       "      <th>17</th>\n",
       "      <td>one-hot__cluster_0</td>\n",
       "      <td>-0.756755</td>\n",
       "    </tr>\n",
       "    <tr>\n",
       "      <th>16</th>\n",
       "      <td>one-hot__AcceptedCmpTotal_3</td>\n",
       "      <td>-0.522004</td>\n",
       "    </tr>\n",
       "    <tr>\n",
       "      <th>6</th>\n",
       "      <td>one-hot__AcceptedCmp3_0</td>\n",
       "      <td>-0.465941</td>\n",
       "    </tr>\n",
       "    <tr>\n",
       "      <th>20</th>\n",
       "      <td>power__MntWines</td>\n",
       "      <td>-0.440929</td>\n",
       "    </tr>\n",
       "    <tr>\n",
       "      <th>4</th>\n",
       "      <td>one-hot__AcceptedCmp1_0</td>\n",
       "      <td>-0.160132</td>\n",
       "    </tr>\n",
       "    <tr>\n",
       "      <th>10</th>\n",
       "      <td>one-hot__AcceptedCmp5_0</td>\n",
       "      <td>-0.144814</td>\n",
       "    </tr>\n",
       "    <tr>\n",
       "      <th>1</th>\n",
       "      <td>one-hot__HasChildren_1</td>\n",
       "      <td>0.038102</td>\n",
       "    </tr>\n",
       "    <tr>\n",
       "      <th>8</th>\n",
       "      <td>one-hot__AcceptedCmp4_0</td>\n",
       "      <td>0.176046</td>\n",
       "    </tr>\n",
       "    <tr>\n",
       "      <th>9</th>\n",
       "      <td>one-hot__AcceptedCmp4_1</td>\n",
       "      <td>0.245784</td>\n",
       "    </tr>\n",
       "    <tr>\n",
       "      <th>22</th>\n",
       "      <td>power__NumCatalogPurchases</td>\n",
       "      <td>0.353402</td>\n",
       "    </tr>\n",
       "    <tr>\n",
       "      <th>0</th>\n",
       "      <td>one-hot__HasChildren_0</td>\n",
       "      <td>0.383728</td>\n",
       "    </tr>\n",
       "    <tr>\n",
       "      <th>12</th>\n",
       "      <td>one-hot__Children_0</td>\n",
       "      <td>0.383728</td>\n",
       "    </tr>\n",
       "    <tr>\n",
       "      <th>11</th>\n",
       "      <td>one-hot__AcceptedCmp5_1</td>\n",
       "      <td>0.566644</td>\n",
       "    </tr>\n",
       "    <tr>\n",
       "      <th>5</th>\n",
       "      <td>one-hot__AcceptedCmp1_1</td>\n",
       "      <td>0.581962</td>\n",
       "    </tr>\n",
       "    <tr>\n",
       "      <th>23</th>\n",
       "      <td>power__MntTotal</td>\n",
       "      <td>0.638790</td>\n",
       "    </tr>\n",
       "    <tr>\n",
       "      <th>7</th>\n",
       "      <td>one-hot__AcceptedCmp3_1</td>\n",
       "      <td>0.887771</td>\n",
       "    </tr>\n",
       "    <tr>\n",
       "      <th>3</th>\n",
       "      <td>one-hot__HasAcceptedCmp_1</td>\n",
       "      <td>1.229167</td>\n",
       "    </tr>\n",
       "    <tr>\n",
       "      <th>21</th>\n",
       "      <td>power__MntMeatProducts</td>\n",
       "      <td>1.331102</td>\n",
       "    </tr>\n",
       "    <tr>\n",
       "      <th>19</th>\n",
       "      <td>minmax__DaysSinceEnrolled</td>\n",
       "      <td>3.761487</td>\n",
       "    </tr>\n",
       "  </tbody>\n",
       "</table>\n",
       "</div>"
      ],
      "text/plain": [
       "                           name  importance\n",
       "18              minmax__Recency   -3.022665\n",
       "14  one-hot__AcceptedCmpTotal_1   -1.865803\n",
       "24       power__MntRegularProds   -1.477706\n",
       "15  one-hot__AcceptedCmpTotal_2   -0.982612\n",
       "2     one-hot__HasAcceptedCmp_0   -0.807337\n",
       "13  one-hot__AcceptedCmpTotal_0   -0.807337\n",
       "17           one-hot__cluster_0   -0.756755\n",
       "16  one-hot__AcceptedCmpTotal_3   -0.522004\n",
       "6       one-hot__AcceptedCmp3_0   -0.465941\n",
       "20              power__MntWines   -0.440929\n",
       "4       one-hot__AcceptedCmp1_0   -0.160132\n",
       "10      one-hot__AcceptedCmp5_0   -0.144814\n",
       "1        one-hot__HasChildren_1    0.038102\n",
       "8       one-hot__AcceptedCmp4_0    0.176046\n",
       "9       one-hot__AcceptedCmp4_1    0.245784\n",
       "22   power__NumCatalogPurchases    0.353402\n",
       "0        one-hot__HasChildren_0    0.383728\n",
       "12          one-hot__Children_0    0.383728\n",
       "11      one-hot__AcceptedCmp5_1    0.566644\n",
       "5       one-hot__AcceptedCmp1_1    0.581962\n",
       "23              power__MntTotal    0.638790\n",
       "7       one-hot__AcceptedCmp3_1    0.887771\n",
       "3     one-hot__HasAcceptedCmp_1    1.229167\n",
       "21       power__MntMeatProducts    1.331102\n",
       "19    minmax__DaysSinceEnrolled    3.761487"
      ]
     },
     "execution_count": 40,
     "metadata": {},
     "output_type": "execute_result"
    }
   ],
   "source": [
    "df_importance = pd.DataFrame(\n",
    "    {\n",
    "        \"name\": names,\n",
    "        \"importance\": importance\n",
    "    }\n",
    ")\n",
    "\n",
    "df_importance.sort_values(by=\"importance\")"
   ]
  },
  {
   "cell_type": "markdown",
   "id": "a967cd5f-1620-4c47-8d61-466c65f2ad13",
   "metadata": {},
   "source": [
    "**ALUNOS**: Destacar a melhora nas métricas exibidas nos gráficos."
   ]
  },
  {
   "cell_type": "code",
   "execution_count": 41,
   "id": "67eb8e95-aede-486f-be79-c77b220dc882",
   "metadata": {},
   "outputs": [
    {
     "data": {
      "image/png": "[encoded data removed]",
      "text/plain": [
       "<Figure size 640x480 with 1 Axes>"
      ]
     },
     "metadata": {},
     "output_type": "display_data"
    }
   ],
   "source": [
    "# ROC\n",
    "from sklearn.metrics import RocCurveDisplay\n",
    "from sklearn.model_selection import cross_val_predict\n",
    "\n",
    "y_pred = cross_val_predict(pipeline_logreg_best, X, y, cv=skf, n_jobs=-1)\n",
    "\n",
    "roc = RocCurveDisplay.from_predictions(y, y_pred)"
   ]
  },
  {
   "cell_type": "code",
   "execution_count": 42,
   "id": "e991f7b0-c776-4064-99d1-8194e6a85c61",
   "metadata": {},
   "outputs": [
    {
     "data": {
      "image/png": "[encoded data removed]",
      "text/plain": [
       "<Figure size 640x480 with 1 Axes>"
      ]
     },
     "metadata": {},
     "output_type": "display_data"
    }
   ],
   "source": [
    "# Precision-Recall\n",
    "from sklearn.metrics import PrecisionRecallDisplay\n",
    "\n",
    "y_pred = cross_val_predict(pipeline_logreg_best, X, y, cv=skf, n_jobs=-1, method=\"decision_function\")\n",
    "\n",
    "prc = PrecisionRecallDisplay.from_predictions(y, y_pred)"
   ]
  }
 ],
 "metadata": {
  "kernelspec": {
   "display_name": "Python 3 (ipykernel)",
   "language": "python",
   "name": "python3"
  },
  "language_info": {
   "codemirror_mode": {
    "name": "ipython",
    "version": 3
   },
   "file_extension": ".py",
   "mimetype": "text/x-python",
   "name": "python",
   "nbconvert_exporter": "python",
   "pygments_lexer": "ipython3",
   "version": "3.11.5"
  }
 },
 "nbformat": 4,
 "nbformat_minor": 5
}
